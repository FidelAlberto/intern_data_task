{
  "nbformat": 4,
  "nbformat_minor": 0,
  "metadata": {
    "colab": {
      "name": "Questions_&_Answers",
      "provenance": []
    },
    "kernelspec": {
      "name": "python3",
      "display_name": "Python 3"
    },
    "language_info": {
      "name": "python"
    }
  },
  "cells": [
    {
      "cell_type": "markdown",
      "metadata": {
        "id": "PlVKs5skBuKH"
      },
      "source": [
        "# QUESTION 1"
      ]
    },
    {
      "cell_type": "code",
      "metadata": {
        "id": "BZmOMnXe8o9I"
      },
      "source": [
        "# Import frameworks\n",
        "import pandas as pd\n",
        "import numpy as np\n",
        "import matplotlib.pyplot as plt"
      ],
      "execution_count": 148,
      "outputs": []
    },
    {
      "cell_type": "markdown",
      "metadata": {
        "id": "CNm0Coj7Hu43"
      },
      "source": [
        "# A"
      ]
    },
    {
      "cell_type": "code",
      "metadata": {
        "id": "69az2Oz09NOa"
      },
      "source": [
        "df=pd.read_csv('/content/drive/MyDrive/research-assistant/ratings.csv')"
      ],
      "execution_count": 149,
      "outputs": []
    },
    {
      "cell_type": "code",
      "metadata": {
        "colab": {
          "base_uri": "https://localhost:8080/",
          "height": 206
        },
        "id": "oPdWfPkx85DP",
        "outputId": "d74a14dc-6ea3-4531-a6d9-2b5e45313f33"
      },
      "source": [
        "df.head()"
      ],
      "execution_count": 150,
      "outputs": [
        {
          "output_type": "execute_result",
          "data": {
            "text/html": [
              "<div>\n",
              "<style scoped>\n",
              "    .dataframe tbody tr th:only-of-type {\n",
              "        vertical-align: middle;\n",
              "    }\n",
              "\n",
              "    .dataframe tbody tr th {\n",
              "        vertical-align: top;\n",
              "    }\n",
              "\n",
              "    .dataframe thead th {\n",
              "        text-align: right;\n",
              "    }\n",
              "</style>\n",
              "<table border=\"1\" class=\"dataframe\">\n",
              "  <thead>\n",
              "    <tr style=\"text-align: right;\">\n",
              "      <th></th>\n",
              "      <th>aspect</th>\n",
              "      <th>worker</th>\n",
              "      <th>time</th>\n",
              "      <th>rating</th>\n",
              "    </tr>\n",
              "  </thead>\n",
              "  <tbody>\n",
              "    <tr>\n",
              "      <th>0</th>\n",
              "      <td>how happy you feel</td>\n",
              "      <td>AW31492615119</td>\n",
              "      <td>1502372036608</td>\n",
              "      <td>69</td>\n",
              "    </tr>\n",
              "    <tr>\n",
              "      <th>1</th>\n",
              "      <td>how much you like your home house or apartment</td>\n",
              "      <td>AW31492615119</td>\n",
              "      <td>1502372036695</td>\n",
              "      <td>67</td>\n",
              "    </tr>\n",
              "    <tr>\n",
              "      <th>2</th>\n",
              "      <td>how satisfied you are with your life</td>\n",
              "      <td>AW31492615119</td>\n",
              "      <td>1502372036780</td>\n",
              "      <td>67</td>\n",
              "    </tr>\n",
              "    <tr>\n",
              "      <th>3</th>\n",
              "      <td>the extent to which you feel the things you do...</td>\n",
              "      <td>AW31492615119</td>\n",
              "      <td>1502372036849</td>\n",
              "      <td>63</td>\n",
              "    </tr>\n",
              "    <tr>\n",
              "      <th>4</th>\n",
              "      <td>the quality of your sleep</td>\n",
              "      <td>AW31492615119</td>\n",
              "      <td>1502372036929</td>\n",
              "      <td>59</td>\n",
              "    </tr>\n",
              "  </tbody>\n",
              "</table>\n",
              "</div>"
            ],
            "text/plain": [
              "                                              aspect  ... rating\n",
              "0                                 how happy you feel  ...     69\n",
              "1     how much you like your home house or apartment  ...     67\n",
              "2               how satisfied you are with your life  ...     67\n",
              "3  the extent to which you feel the things you do...  ...     63\n",
              "4                          the quality of your sleep  ...     59\n",
              "\n",
              "[5 rows x 4 columns]"
            ]
          },
          "metadata": {},
          "execution_count": 150
        }
      ]
    },
    {
      "cell_type": "code",
      "metadata": {
        "colab": {
          "base_uri": "https://localhost:8080/"
        },
        "id": "VmpwkEgV-Uyx",
        "outputId": "d226dad7-0bd7-4e60-e552-bc3724a289f3"
      },
      "source": [
        "df.info()"
      ],
      "execution_count": 151,
      "outputs": [
        {
          "output_type": "stream",
          "name": "stdout",
          "text": [
            "<class 'pandas.core.frame.DataFrame'>\n",
            "RangeIndex: 18189 entries, 0 to 18188\n",
            "Data columns (total 4 columns):\n",
            " #   Column  Non-Null Count  Dtype \n",
            "---  ------  --------------  ----- \n",
            " 0   aspect  18189 non-null  object\n",
            " 1   worker  18189 non-null  object\n",
            " 2   time    18189 non-null  int64 \n",
            " 3   rating  18189 non-null  int64 \n",
            "dtypes: int64(2), object(2)\n",
            "memory usage: 568.5+ KB\n"
          ]
        }
      ]
    },
    {
      "cell_type": "code",
      "metadata": {
        "colab": {
          "base_uri": "https://localhost:8080/"
        },
        "id": "_V8lV9E1-qHP",
        "outputId": "a36d25dd-b571-4d74-ac14-feda76b47855"
      },
      "source": [
        "df['worker'].value_counts()"
      ],
      "execution_count": 152,
      "outputs": [
        {
          "output_type": "execute_result",
          "data": {
            "text/plain": [
              "AW40198125962      20\n",
              "AW20387262845      20\n",
              "AW22873047111      20\n",
              "AW53929080867YY    20\n",
              "AW23505874445      20\n",
              "                   ..\n",
              "AW37941285173      17\n",
              "AW34219602696OO    17\n",
              "AW27695606524      17\n",
              "AW38701174442OO    17\n",
              "AW62795227570      17\n",
              "Name: worker, Length: 1056, dtype: int64"
            ]
          },
          "metadata": {},
          "execution_count": 152
        }
      ]
    },
    {
      "cell_type": "markdown",
      "metadata": {
        "id": "oPGnuWZQHz27"
      },
      "source": [
        "# B"
      ]
    },
    {
      "cell_type": "code",
      "metadata": {
        "colab": {
          "base_uri": "https://localhost:8080/"
        },
        "id": "zlfqjSKdB1fp",
        "outputId": "a0158b1b-666b-4f80-a358-0fc7a7d89da7"
      },
      "source": [
        "len(df['worker'].value_counts())"
      ],
      "execution_count": 153,
      "outputs": [
        {
          "output_type": "execute_result",
          "data": {
            "text/plain": [
              "1056"
            ]
          },
          "metadata": {},
          "execution_count": 153
        }
      ]
    },
    {
      "cell_type": "code",
      "metadata": {
        "colab": {
          "base_uri": "https://localhost:8080/"
        },
        "id": "KhUA1iuCAZRn",
        "outputId": "b7555337-d882-4033-b9d4-1d04f7e803bc"
      },
      "source": [
        "df['aspect'].value_counts()"
      ],
      "execution_count": 154,
      "outputs": [
        {
          "output_type": "execute_result",
          "data": {
            "text/plain": [
              "the quality of your sleep                                                     1075\n",
              "your emotional stability                                                      1074\n",
              "you feeling that your work has value                                          1074\n",
              "your physical safety and security                                             1072\n",
              "you being a good moral person and living according to your personal values    1072\n",
              "you being able to spend enough time with the ones you love                    1071\n",
              "you not feeling anxious                                                       1071\n",
              "your mental health                                                            1071\n",
              "the extent to which you feel the things you do in your life are worthwhile    1071\n",
              "how satisfied you are with your life                                          1070\n",
              "your physical fitness                                                         1069\n",
              "your sense of connection with other people                                    1068\n",
              "how happy you feel                                                            1068\n",
              "your knowledge skills and access to information                               1068\n",
              "you being able to support your family financially                             1066\n",
              "your health                                                                   1065\n",
              "how much you like your home house or apartment                                1064\n",
              "Name: aspect, dtype: int64"
            ]
          },
          "metadata": {},
          "execution_count": 154
        }
      ]
    },
    {
      "cell_type": "code",
      "metadata": {
        "colab": {
          "base_uri": "https://localhost:8080/"
        },
        "id": "dpZ9AXxeAuRl",
        "outputId": "b6a0b022-bc23-4c3c-e82f-117c87c046c8"
      },
      "source": [
        "len(df['aspect'].value_counts())"
      ],
      "execution_count": 155,
      "outputs": [
        {
          "output_type": "execute_result",
          "data": {
            "text/plain": [
              "17"
            ]
          },
          "metadata": {},
          "execution_count": 155
        }
      ]
    },
    {
      "cell_type": "markdown",
      "metadata": {
        "id": "1bnKHhL8Bn0A"
      },
      "source": [
        "# C"
      ]
    },
    {
      "cell_type": "code",
      "metadata": {
        "colab": {
          "base_uri": "https://localhost:8080/",
          "height": 206
        },
        "id": "SwHaPkwOBnRF",
        "outputId": "0be82b8c-997d-48ff-8e6a-4a6d32d3f627"
      },
      "source": [
        "df[[\"aspect\" , \"worker\"]].head()"
      ],
      "execution_count": 156,
      "outputs": [
        {
          "output_type": "execute_result",
          "data": {
            "text/html": [
              "<div>\n",
              "<style scoped>\n",
              "    .dataframe tbody tr th:only-of-type {\n",
              "        vertical-align: middle;\n",
              "    }\n",
              "\n",
              "    .dataframe tbody tr th {\n",
              "        vertical-align: top;\n",
              "    }\n",
              "\n",
              "    .dataframe thead th {\n",
              "        text-align: right;\n",
              "    }\n",
              "</style>\n",
              "<table border=\"1\" class=\"dataframe\">\n",
              "  <thead>\n",
              "    <tr style=\"text-align: right;\">\n",
              "      <th></th>\n",
              "      <th>aspect</th>\n",
              "      <th>worker</th>\n",
              "    </tr>\n",
              "  </thead>\n",
              "  <tbody>\n",
              "    <tr>\n",
              "      <th>0</th>\n",
              "      <td>how happy you feel</td>\n",
              "      <td>AW31492615119</td>\n",
              "    </tr>\n",
              "    <tr>\n",
              "      <th>1</th>\n",
              "      <td>how much you like your home house or apartment</td>\n",
              "      <td>AW31492615119</td>\n",
              "    </tr>\n",
              "    <tr>\n",
              "      <th>2</th>\n",
              "      <td>how satisfied you are with your life</td>\n",
              "      <td>AW31492615119</td>\n",
              "    </tr>\n",
              "    <tr>\n",
              "      <th>3</th>\n",
              "      <td>the extent to which you feel the things you do...</td>\n",
              "      <td>AW31492615119</td>\n",
              "    </tr>\n",
              "    <tr>\n",
              "      <th>4</th>\n",
              "      <td>the quality of your sleep</td>\n",
              "      <td>AW31492615119</td>\n",
              "    </tr>\n",
              "  </tbody>\n",
              "</table>\n",
              "</div>"
            ],
            "text/plain": [
              "                                              aspect         worker\n",
              "0                                 how happy you feel  AW31492615119\n",
              "1     how much you like your home house or apartment  AW31492615119\n",
              "2               how satisfied you are with your life  AW31492615119\n",
              "3  the extent to which you feel the things you do...  AW31492615119\n",
              "4                          the quality of your sleep  AW31492615119"
            ]
          },
          "metadata": {},
          "execution_count": 156
        }
      ]
    },
    {
      "cell_type": "code",
      "metadata": {
        "colab": {
          "base_uri": "https://localhost:8080/"
        },
        "id": "jObA--cDFPsu",
        "outputId": "aa9caa11-08b7-40a1-f981-e195a8e3656f"
      },
      "source": [
        "values_duplicated= df.duplicated(subset=['aspect', 'worker'])\n",
        "values_duplicated"
      ],
      "execution_count": 157,
      "outputs": [
        {
          "output_type": "execute_result",
          "data": {
            "text/plain": [
              "0        False\n",
              "1        False\n",
              "2        False\n",
              "3        False\n",
              "4        False\n",
              "         ...  \n",
              "18184     True\n",
              "18185     True\n",
              "18186     True\n",
              "18187     True\n",
              "18188     True\n",
              "Length: 18189, dtype: bool"
            ]
          },
          "metadata": {},
          "execution_count": 157
        }
      ]
    },
    {
      "cell_type": "markdown",
      "metadata": {
        "id": "lyIj7IskF4kK"
      },
      "source": [
        "Number of repeated values"
      ]
    },
    {
      "cell_type": "code",
      "metadata": {
        "colab": {
          "base_uri": "https://localhost:8080/"
        },
        "id": "NcJOaEEzFYCP",
        "outputId": "cc34fc18-6566-43e1-95ae-44efa832cd5c"
      },
      "source": [
        "values_duplicated.sum()"
      ],
      "execution_count": 158,
      "outputs": [
        {
          "output_type": "execute_result",
          "data": {
            "text/plain": [
              "237"
            ]
          },
          "metadata": {},
          "execution_count": 158
        }
      ]
    },
    {
      "cell_type": "code",
      "metadata": {
        "colab": {
          "base_uri": "https://localhost:8080/",
          "height": 424
        },
        "id": "-PmCLUKrF4Ca",
        "outputId": "3f499135-0a9d-476d-98e8-a28e14287605"
      },
      "source": [
        "df.loc[df.duplicated(keep='last', subset=['aspect', 'worker']), :]"
      ],
      "execution_count": 159,
      "outputs": [
        {
          "output_type": "execute_result",
          "data": {
            "text/html": [
              "<div>\n",
              "<style scoped>\n",
              "    .dataframe tbody tr th:only-of-type {\n",
              "        vertical-align: middle;\n",
              "    }\n",
              "\n",
              "    .dataframe tbody tr th {\n",
              "        vertical-align: top;\n",
              "    }\n",
              "\n",
              "    .dataframe thead th {\n",
              "        text-align: right;\n",
              "    }\n",
              "</style>\n",
              "<table border=\"1\" class=\"dataframe\">\n",
              "  <thead>\n",
              "    <tr style=\"text-align: right;\">\n",
              "      <th></th>\n",
              "      <th>aspect</th>\n",
              "      <th>worker</th>\n",
              "      <th>time</th>\n",
              "      <th>rating</th>\n",
              "    </tr>\n",
              "  </thead>\n",
              "  <tbody>\n",
              "    <tr>\n",
              "      <th>83</th>\n",
              "      <td>your physical safety and security</td>\n",
              "      <td>AW8132561106</td>\n",
              "      <td>1482545562860</td>\n",
              "      <td>89</td>\n",
              "    </tr>\n",
              "    <tr>\n",
              "      <th>114</th>\n",
              "      <td>your knowledge skills and access to information</td>\n",
              "      <td>AW35167700734</td>\n",
              "      <td>1502743102576</td>\n",
              "      <td>47</td>\n",
              "    </tr>\n",
              "    <tr>\n",
              "      <th>117</th>\n",
              "      <td>your physical safety and security</td>\n",
              "      <td>AW35167700734</td>\n",
              "      <td>1502743102820</td>\n",
              "      <td>38</td>\n",
              "    </tr>\n",
              "    <tr>\n",
              "      <th>187</th>\n",
              "      <td>how happy you feel</td>\n",
              "      <td>AW37637282089</td>\n",
              "      <td>1502492098560</td>\n",
              "      <td>36</td>\n",
              "    </tr>\n",
              "    <tr>\n",
              "      <th>392</th>\n",
              "      <td>how much you like your home house or apartment</td>\n",
              "      <td>AW47128939530</td>\n",
              "      <td>1482482253907</td>\n",
              "      <td>36</td>\n",
              "    </tr>\n",
              "    <tr>\n",
              "      <th>...</th>\n",
              "      <td>...</td>\n",
              "      <td>...</td>\n",
              "      <td>...</td>\n",
              "      <td>...</td>\n",
              "    </tr>\n",
              "    <tr>\n",
              "      <th>17593</th>\n",
              "      <td>your physical safety and security</td>\n",
              "      <td>AW17145364086YY</td>\n",
              "      <td>1502210295028</td>\n",
              "      <td>75</td>\n",
              "    </tr>\n",
              "    <tr>\n",
              "      <th>17662</th>\n",
              "      <td>your sense of connection with other people</td>\n",
              "      <td>AW57726153246YY</td>\n",
              "      <td>1502691722740</td>\n",
              "      <td>27</td>\n",
              "    </tr>\n",
              "    <tr>\n",
              "      <th>17712</th>\n",
              "      <td>your physical safety and security</td>\n",
              "      <td>AW11188437452YY</td>\n",
              "      <td>1502377805168</td>\n",
              "      <td>48</td>\n",
              "    </tr>\n",
              "    <tr>\n",
              "      <th>17907</th>\n",
              "      <td>you being able to spend enough time with the o...</td>\n",
              "      <td>AW37808030322YY</td>\n",
              "      <td>1493392032275</td>\n",
              "      <td>88</td>\n",
              "    </tr>\n",
              "    <tr>\n",
              "      <th>17932</th>\n",
              "      <td>your physical fitness</td>\n",
              "      <td>AW36679818719YY</td>\n",
              "      <td>1483146003582</td>\n",
              "      <td>63</td>\n",
              "    </tr>\n",
              "  </tbody>\n",
              "</table>\n",
              "<p>237 rows × 4 columns</p>\n",
              "</div>"
            ],
            "text/plain": [
              "                                                  aspect  ... rating\n",
              "83                     your physical safety and security  ...     89\n",
              "114      your knowledge skills and access to information  ...     47\n",
              "117                    your physical safety and security  ...     38\n",
              "187                                   how happy you feel  ...     36\n",
              "392       how much you like your home house or apartment  ...     36\n",
              "...                                                  ...  ...    ...\n",
              "17593                  your physical safety and security  ...     75\n",
              "17662         your sense of connection with other people  ...     27\n",
              "17712                  your physical safety and security  ...     48\n",
              "17907  you being able to spend enough time with the o...  ...     88\n",
              "17932                              your physical fitness  ...     63\n",
              "\n",
              "[237 rows x 4 columns]"
            ]
          },
          "metadata": {},
          "execution_count": 159
        }
      ]
    },
    {
      "cell_type": "code",
      "metadata": {
        "colab": {
          "base_uri": "https://localhost:8080/"
        },
        "id": "Q4EbK2I_JjJ1",
        "outputId": "45e3c3c3-0f12-44a7-9de7-e84c5a09e645"
      },
      "source": [
        "len(df.loc[df.duplicated(keep='last', subset=['aspect', 'worker']), :])"
      ],
      "execution_count": 160,
      "outputs": [
        {
          "output_type": "execute_result",
          "data": {
            "text/plain": [
              "237"
            ]
          },
          "metadata": {},
          "execution_count": 160
        }
      ]
    },
    {
      "cell_type": "markdown",
      "metadata": {
        "id": "aan0At77IVHJ"
      },
      "source": [
        "Dropp"
      ]
    },
    {
      "cell_type": "code",
      "metadata": {
        "id": "Ho87duOVJXyx"
      },
      "source": [
        "cleaned_df=df.drop_duplicates(keep='last', subset=['aspect', 'worker'])"
      ],
      "execution_count": 161,
      "outputs": []
    },
    {
      "cell_type": "code",
      "metadata": {
        "colab": {
          "base_uri": "https://localhost:8080/"
        },
        "id": "ZAQ-tm8WJyPu",
        "outputId": "41bd0967-19a0-418a-c102-b336e5311662"
      },
      "source": [
        "cleaned_df.info()"
      ],
      "execution_count": 162,
      "outputs": [
        {
          "output_type": "stream",
          "name": "stdout",
          "text": [
            "<class 'pandas.core.frame.DataFrame'>\n",
            "Int64Index: 17952 entries, 0 to 18188\n",
            "Data columns (total 4 columns):\n",
            " #   Column  Non-Null Count  Dtype \n",
            "---  ------  --------------  ----- \n",
            " 0   aspect  17952 non-null  object\n",
            " 1   worker  17952 non-null  object\n",
            " 2   time    17952 non-null  int64 \n",
            " 3   rating  17952 non-null  int64 \n",
            "dtypes: int64(2), object(2)\n",
            "memory usage: 701.2+ KB\n"
          ]
        }
      ]
    },
    {
      "cell_type": "markdown",
      "metadata": {
        "id": "tiQiZqGDKOt-"
      },
      "source": [
        "# D"
      ]
    },
    {
      "cell_type": "code",
      "metadata": {
        "colab": {
          "base_uri": "https://localhost:8080/",
          "height": 206
        },
        "id": "wsfMCqn8KAem",
        "outputId": "1d6ac3db-2ae2-470f-87ee-3041c314eec3"
      },
      "source": [
        "cleaned_df.head()"
      ],
      "execution_count": 163,
      "outputs": [
        {
          "output_type": "execute_result",
          "data": {
            "text/html": [
              "<div>\n",
              "<style scoped>\n",
              "    .dataframe tbody tr th:only-of-type {\n",
              "        vertical-align: middle;\n",
              "    }\n",
              "\n",
              "    .dataframe tbody tr th {\n",
              "        vertical-align: top;\n",
              "    }\n",
              "\n",
              "    .dataframe thead th {\n",
              "        text-align: right;\n",
              "    }\n",
              "</style>\n",
              "<table border=\"1\" class=\"dataframe\">\n",
              "  <thead>\n",
              "    <tr style=\"text-align: right;\">\n",
              "      <th></th>\n",
              "      <th>aspect</th>\n",
              "      <th>worker</th>\n",
              "      <th>time</th>\n",
              "      <th>rating</th>\n",
              "    </tr>\n",
              "  </thead>\n",
              "  <tbody>\n",
              "    <tr>\n",
              "      <th>0</th>\n",
              "      <td>how happy you feel</td>\n",
              "      <td>AW31492615119</td>\n",
              "      <td>1502372036608</td>\n",
              "      <td>69</td>\n",
              "    </tr>\n",
              "    <tr>\n",
              "      <th>1</th>\n",
              "      <td>how much you like your home house or apartment</td>\n",
              "      <td>AW31492615119</td>\n",
              "      <td>1502372036695</td>\n",
              "      <td>67</td>\n",
              "    </tr>\n",
              "    <tr>\n",
              "      <th>2</th>\n",
              "      <td>how satisfied you are with your life</td>\n",
              "      <td>AW31492615119</td>\n",
              "      <td>1502372036780</td>\n",
              "      <td>67</td>\n",
              "    </tr>\n",
              "    <tr>\n",
              "      <th>3</th>\n",
              "      <td>the extent to which you feel the things you do...</td>\n",
              "      <td>AW31492615119</td>\n",
              "      <td>1502372036849</td>\n",
              "      <td>63</td>\n",
              "    </tr>\n",
              "    <tr>\n",
              "      <th>4</th>\n",
              "      <td>the quality of your sleep</td>\n",
              "      <td>AW31492615119</td>\n",
              "      <td>1502372036929</td>\n",
              "      <td>59</td>\n",
              "    </tr>\n",
              "  </tbody>\n",
              "</table>\n",
              "</div>"
            ],
            "text/plain": [
              "                                              aspect  ... rating\n",
              "0                                 how happy you feel  ...     69\n",
              "1     how much you like your home house or apartment  ...     67\n",
              "2               how satisfied you are with your life  ...     67\n",
              "3  the extent to which you feel the things you do...  ...     63\n",
              "4                          the quality of your sleep  ...     59\n",
              "\n",
              "[5 rows x 4 columns]"
            ]
          },
          "metadata": {},
          "execution_count": 163
        }
      ]
    },
    {
      "cell_type": "code",
      "metadata": {
        "colab": {
          "base_uri": "https://localhost:8080/",
          "height": 487
        },
        "id": "Ay7mIctILS1-",
        "outputId": "7294dd85-5029-434b-b7a7-252de4fff4ca"
      },
      "source": [
        "new_df=cleaned_df.groupby(\"worker\").agg({\"rating\":['mean' , \"count\" , \"min\" , \"max\"]})\n",
        "new_df"
      ],
      "execution_count": 164,
      "outputs": [
        {
          "output_type": "execute_result",
          "data": {
            "text/html": [
              "<div>\n",
              "<style scoped>\n",
              "    .dataframe tbody tr th:only-of-type {\n",
              "        vertical-align: middle;\n",
              "    }\n",
              "\n",
              "    .dataframe tbody tr th {\n",
              "        vertical-align: top;\n",
              "    }\n",
              "\n",
              "    .dataframe thead tr th {\n",
              "        text-align: left;\n",
              "    }\n",
              "\n",
              "    .dataframe thead tr:last-of-type th {\n",
              "        text-align: right;\n",
              "    }\n",
              "</style>\n",
              "<table border=\"1\" class=\"dataframe\">\n",
              "  <thead>\n",
              "    <tr>\n",
              "      <th></th>\n",
              "      <th colspan=\"4\" halign=\"left\">rating</th>\n",
              "    </tr>\n",
              "    <tr>\n",
              "      <th></th>\n",
              "      <th>mean</th>\n",
              "      <th>count</th>\n",
              "      <th>min</th>\n",
              "      <th>max</th>\n",
              "    </tr>\n",
              "    <tr>\n",
              "      <th>worker</th>\n",
              "      <th></th>\n",
              "      <th></th>\n",
              "      <th></th>\n",
              "      <th></th>\n",
              "    </tr>\n",
              "  </thead>\n",
              "  <tbody>\n",
              "    <tr>\n",
              "      <th>AW1005987207</th>\n",
              "      <td>69.529412</td>\n",
              "      <td>17</td>\n",
              "      <td>53</td>\n",
              "      <td>78</td>\n",
              "    </tr>\n",
              "    <tr>\n",
              "      <th>AW10083168508</th>\n",
              "      <td>25.941176</td>\n",
              "      <td>17</td>\n",
              "      <td>1</td>\n",
              "      <td>45</td>\n",
              "    </tr>\n",
              "    <tr>\n",
              "      <th>AW10108518316</th>\n",
              "      <td>95.529412</td>\n",
              "      <td>17</td>\n",
              "      <td>84</td>\n",
              "      <td>100</td>\n",
              "    </tr>\n",
              "    <tr>\n",
              "      <th>AW10192560152</th>\n",
              "      <td>61.470588</td>\n",
              "      <td>17</td>\n",
              "      <td>44</td>\n",
              "      <td>75</td>\n",
              "    </tr>\n",
              "    <tr>\n",
              "      <th>AW1039734587YY</th>\n",
              "      <td>76.294118</td>\n",
              "      <td>17</td>\n",
              "      <td>59</td>\n",
              "      <td>93</td>\n",
              "    </tr>\n",
              "    <tr>\n",
              "      <th>...</th>\n",
              "      <td>...</td>\n",
              "      <td>...</td>\n",
              "      <td>...</td>\n",
              "      <td>...</td>\n",
              "    </tr>\n",
              "    <tr>\n",
              "      <th>AW9732731740</th>\n",
              "      <td>77.529412</td>\n",
              "      <td>17</td>\n",
              "      <td>64</td>\n",
              "      <td>85</td>\n",
              "    </tr>\n",
              "    <tr>\n",
              "      <th>AW9792414598</th>\n",
              "      <td>43.352941</td>\n",
              "      <td>17</td>\n",
              "      <td>27</td>\n",
              "      <td>59</td>\n",
              "    </tr>\n",
              "    <tr>\n",
              "      <th>AW9806860651</th>\n",
              "      <td>33.529412</td>\n",
              "      <td>17</td>\n",
              "      <td>19</td>\n",
              "      <td>53</td>\n",
              "    </tr>\n",
              "    <tr>\n",
              "      <th>AW988514063OO</th>\n",
              "      <td>60.235294</td>\n",
              "      <td>17</td>\n",
              "      <td>48</td>\n",
              "      <td>72</td>\n",
              "    </tr>\n",
              "    <tr>\n",
              "      <th>AW9961673406</th>\n",
              "      <td>86.882353</td>\n",
              "      <td>17</td>\n",
              "      <td>76</td>\n",
              "      <td>96</td>\n",
              "    </tr>\n",
              "  </tbody>\n",
              "</table>\n",
              "<p>1056 rows × 4 columns</p>\n",
              "</div>"
            ],
            "text/plain": [
              "                   rating               \n",
              "                     mean count min  max\n",
              "worker                                  \n",
              "AW1005987207    69.529412    17  53   78\n",
              "AW10083168508   25.941176    17   1   45\n",
              "AW10108518316   95.529412    17  84  100\n",
              "AW10192560152   61.470588    17  44   75\n",
              "AW1039734587YY  76.294118    17  59   93\n",
              "...                   ...   ...  ..  ...\n",
              "AW9732731740    77.529412    17  64   85\n",
              "AW9792414598    43.352941    17  27   59\n",
              "AW9806860651    33.529412    17  19   53\n",
              "AW988514063OO   60.235294    17  48   72\n",
              "AW9961673406    86.882353    17  76   96\n",
              "\n",
              "[1056 rows x 4 columns]"
            ]
          },
          "metadata": {},
          "execution_count": 164
        }
      ]
    },
    {
      "cell_type": "code",
      "metadata": {
        "colab": {
          "base_uri": "https://localhost:8080/"
        },
        "id": "lJQdRY1HNJXO",
        "outputId": "dcc2cffb-c837-408d-d50c-ac6b5808edd9"
      },
      "source": [
        "new_df.info()"
      ],
      "execution_count": 165,
      "outputs": [
        {
          "output_type": "stream",
          "name": "stdout",
          "text": [
            "<class 'pandas.core.frame.DataFrame'>\n",
            "Index: 1056 entries, AW1005987207 to AW9961673406\n",
            "Data columns (total 4 columns):\n",
            " #   Column           Non-Null Count  Dtype  \n",
            "---  ------           --------------  -----  \n",
            " 0   (rating, mean)   1056 non-null   float64\n",
            " 1   (rating, count)  1056 non-null   int64  \n",
            " 2   (rating, min)    1056 non-null   int64  \n",
            " 3   (rating, max)    1056 non-null   int64  \n",
            "dtypes: float64(1), int64(3)\n",
            "memory usage: 41.2+ KB\n"
          ]
        }
      ]
    },
    {
      "cell_type": "code",
      "metadata": {
        "colab": {
          "base_uri": "https://localhost:8080/"
        },
        "id": "ktAOucFZNbDu",
        "outputId": "7092a423-19c7-490c-8bfa-3b67950fa0d1"
      },
      "source": [
        "new_df.columns"
      ],
      "execution_count": 166,
      "outputs": [
        {
          "output_type": "execute_result",
          "data": {
            "text/plain": [
              "MultiIndex([('rating',  'mean'),\n",
              "            ('rating', 'count'),\n",
              "            ('rating',   'min'),\n",
              "            ('rating',   'max')],\n",
              "           )"
            ]
          },
          "metadata": {},
          "execution_count": 166
        }
      ]
    },
    {
      "cell_type": "code",
      "metadata": {
        "colab": {
          "base_uri": "https://localhost:8080/"
        },
        "id": "mnhWzV7CNvFJ",
        "outputId": "efe9edfc-e530-4356-9b68-bb4eaa368ab6"
      },
      "source": [
        "subjective_riches = new_df[('rating',  'mean')]\n",
        "subjective_riches"
      ],
      "execution_count": 167,
      "outputs": [
        {
          "output_type": "execute_result",
          "data": {
            "text/plain": [
              "worker\n",
              "AW1005987207      69.529412\n",
              "AW10083168508     25.941176\n",
              "AW10108518316     95.529412\n",
              "AW10192560152     61.470588\n",
              "AW1039734587YY    76.294118\n",
              "                    ...    \n",
              "AW9732731740      77.529412\n",
              "AW9792414598      43.352941\n",
              "AW9806860651      33.529412\n",
              "AW988514063OO     60.235294\n",
              "AW9961673406      86.882353\n",
              "Name: (rating, mean), Length: 1056, dtype: float64"
            ]
          },
          "metadata": {},
          "execution_count": 167
        }
      ]
    },
    {
      "cell_type": "code",
      "metadata": {
        "colab": {
          "base_uri": "https://localhost:8080/"
        },
        "id": "ReIrl2eJOCve",
        "outputId": "8ec9f731-a0be-42da-b704-f1bc4f6b2d1e"
      },
      "source": [
        "subjective_riches.describe()"
      ],
      "execution_count": 168,
      "outputs": [
        {
          "output_type": "execute_result",
          "data": {
            "text/plain": [
              "count    1056.000000\n",
              "mean       61.641154\n",
              "std        19.012507\n",
              "min         5.764706\n",
              "25%        49.058824\n",
              "50%        61.441176\n",
              "75%        75.073529\n",
              "max       100.000000\n",
              "Name: (rating, mean), dtype: float64"
            ]
          },
          "metadata": {},
          "execution_count": 168
        }
      ]
    },
    {
      "cell_type": "markdown",
      "metadata": {
        "id": "iohpz3ZUOYge"
      },
      "source": [
        "# QUESTION 2\n"
      ]
    },
    {
      "cell_type": "markdown",
      "metadata": {
        "id": "i3eesKduPGHJ"
      },
      "source": [
        "# A"
      ]
    },
    {
      "cell_type": "code",
      "metadata": {
        "id": "rw1sS3opOV4e"
      },
      "source": [
        "df_demographics=pd.read_csv(\"/content/drive/MyDrive/research-assistant/demographics.csv\")"
      ],
      "execution_count": 169,
      "outputs": []
    },
    {
      "cell_type": "code",
      "metadata": {
        "colab": {
          "base_uri": "https://localhost:8080/",
          "height": 206
        },
        "id": "_Z45RM2ROrl8",
        "outputId": "cedddb2a-95a5-4216-ea54-e285d8d709a1"
      },
      "source": [
        "df_demographics.head()"
      ],
      "execution_count": 170,
      "outputs": [
        {
          "output_type": "execute_result",
          "data": {
            "text/html": [
              "<div>\n",
              "<style scoped>\n",
              "    .dataframe tbody tr th:only-of-type {\n",
              "        vertical-align: middle;\n",
              "    }\n",
              "\n",
              "    .dataframe tbody tr th {\n",
              "        vertical-align: top;\n",
              "    }\n",
              "\n",
              "    .dataframe thead th {\n",
              "        text-align: right;\n",
              "    }\n",
              "</style>\n",
              "<table border=\"1\" class=\"dataframe\">\n",
              "  <thead>\n",
              "    <tr style=\"text-align: right;\">\n",
              "      <th></th>\n",
              "      <th>worker</th>\n",
              "      <th>age</th>\n",
              "      <th>male</th>\n",
              "      <th>income</th>\n",
              "      <th>education</th>\n",
              "      <th>race</th>\n",
              "    </tr>\n",
              "  </thead>\n",
              "  <tbody>\n",
              "    <tr>\n",
              "      <th>0</th>\n",
              "      <td>AW31492615119</td>\n",
              "      <td>23</td>\n",
              "      <td>0</td>\n",
              "      <td>30000</td>\n",
              "      <td>Some college</td>\n",
              "      <td>Asian (non-Hispanic)</td>\n",
              "    </tr>\n",
              "    <tr>\n",
              "      <th>1</th>\n",
              "      <td>AW45861491036</td>\n",
              "      <td>35</td>\n",
              "      <td>0</td>\n",
              "      <td>50000</td>\n",
              "      <td>Some college</td>\n",
              "      <td>Black (non-Hispanic)</td>\n",
              "    </tr>\n",
              "    <tr>\n",
              "      <th>2</th>\n",
              "      <td>AW62562980372</td>\n",
              "      <td>28</td>\n",
              "      <td>0</td>\n",
              "      <td>30000</td>\n",
              "      <td>Some college</td>\n",
              "      <td>Hispanic (any race)</td>\n",
              "    </tr>\n",
              "    <tr>\n",
              "      <th>3</th>\n",
              "      <td>AW9806860651</td>\n",
              "      <td>55</td>\n",
              "      <td>1</td>\n",
              "      <td>70000</td>\n",
              "      <td>Bachelor's degree</td>\n",
              "      <td>White (non-Hispanic)</td>\n",
              "    </tr>\n",
              "    <tr>\n",
              "      <th>4</th>\n",
              "      <td>AW8132561106</td>\n",
              "      <td>38</td>\n",
              "      <td>0</td>\n",
              "      <td>50000</td>\n",
              "      <td>Master's degree</td>\n",
              "      <td>White (non-Hispanic)</td>\n",
              "    </tr>\n",
              "  </tbody>\n",
              "</table>\n",
              "</div>"
            ],
            "text/plain": [
              "          worker  age  male  income          education                  race\n",
              "0  AW31492615119   23     0   30000       Some college  Asian (non-Hispanic)\n",
              "1  AW45861491036   35     0   50000       Some college  Black (non-Hispanic)\n",
              "2  AW62562980372   28     0   30000       Some college   Hispanic (any race)\n",
              "3   AW9806860651   55     1   70000  Bachelor's degree  White (non-Hispanic)\n",
              "4   AW8132561106   38     0   50000    Master's degree  White (non-Hispanic)"
            ]
          },
          "metadata": {},
          "execution_count": 170
        }
      ]
    },
    {
      "cell_type": "code",
      "metadata": {
        "id": "krdc53fQUJj0"
      },
      "source": [
        "df_demographics.set_index(\"worker\" , inplace=True)"
      ],
      "execution_count": 171,
      "outputs": []
    },
    {
      "cell_type": "code",
      "metadata": {
        "colab": {
          "base_uri": "https://localhost:8080/",
          "height": 238
        },
        "id": "xRmqnwbqUZn-",
        "outputId": "f0b5eb94-242e-4241-e2bc-6b6cc1b2b0ec"
      },
      "source": [
        "df_demographics.head()"
      ],
      "execution_count": 172,
      "outputs": [
        {
          "output_type": "execute_result",
          "data": {
            "text/html": [
              "<div>\n",
              "<style scoped>\n",
              "    .dataframe tbody tr th:only-of-type {\n",
              "        vertical-align: middle;\n",
              "    }\n",
              "\n",
              "    .dataframe tbody tr th {\n",
              "        vertical-align: top;\n",
              "    }\n",
              "\n",
              "    .dataframe thead th {\n",
              "        text-align: right;\n",
              "    }\n",
              "</style>\n",
              "<table border=\"1\" class=\"dataframe\">\n",
              "  <thead>\n",
              "    <tr style=\"text-align: right;\">\n",
              "      <th></th>\n",
              "      <th>age</th>\n",
              "      <th>male</th>\n",
              "      <th>income</th>\n",
              "      <th>education</th>\n",
              "      <th>race</th>\n",
              "    </tr>\n",
              "    <tr>\n",
              "      <th>worker</th>\n",
              "      <th></th>\n",
              "      <th></th>\n",
              "      <th></th>\n",
              "      <th></th>\n",
              "      <th></th>\n",
              "    </tr>\n",
              "  </thead>\n",
              "  <tbody>\n",
              "    <tr>\n",
              "      <th>AW31492615119</th>\n",
              "      <td>23</td>\n",
              "      <td>0</td>\n",
              "      <td>30000</td>\n",
              "      <td>Some college</td>\n",
              "      <td>Asian (non-Hispanic)</td>\n",
              "    </tr>\n",
              "    <tr>\n",
              "      <th>AW45861491036</th>\n",
              "      <td>35</td>\n",
              "      <td>0</td>\n",
              "      <td>50000</td>\n",
              "      <td>Some college</td>\n",
              "      <td>Black (non-Hispanic)</td>\n",
              "    </tr>\n",
              "    <tr>\n",
              "      <th>AW62562980372</th>\n",
              "      <td>28</td>\n",
              "      <td>0</td>\n",
              "      <td>30000</td>\n",
              "      <td>Some college</td>\n",
              "      <td>Hispanic (any race)</td>\n",
              "    </tr>\n",
              "    <tr>\n",
              "      <th>AW9806860651</th>\n",
              "      <td>55</td>\n",
              "      <td>1</td>\n",
              "      <td>70000</td>\n",
              "      <td>Bachelor's degree</td>\n",
              "      <td>White (non-Hispanic)</td>\n",
              "    </tr>\n",
              "    <tr>\n",
              "      <th>AW8132561106</th>\n",
              "      <td>38</td>\n",
              "      <td>0</td>\n",
              "      <td>50000</td>\n",
              "      <td>Master's degree</td>\n",
              "      <td>White (non-Hispanic)</td>\n",
              "    </tr>\n",
              "  </tbody>\n",
              "</table>\n",
              "</div>"
            ],
            "text/plain": [
              "               age  male  income          education                  race\n",
              "worker                                                                   \n",
              "AW31492615119   23     0   30000       Some college  Asian (non-Hispanic)\n",
              "AW45861491036   35     0   50000       Some college  Black (non-Hispanic)\n",
              "AW62562980372   28     0   30000       Some college   Hispanic (any race)\n",
              "AW9806860651    55     1   70000  Bachelor's degree  White (non-Hispanic)\n",
              "AW8132561106    38     0   50000    Master's degree  White (non-Hispanic)"
            ]
          },
          "metadata": {},
          "execution_count": 172
        }
      ]
    },
    {
      "cell_type": "markdown",
      "metadata": {
        "id": "UzWobnSePI6-"
      },
      "source": [
        "# B"
      ]
    },
    {
      "cell_type": "code",
      "metadata": {
        "colab": {
          "base_uri": "https://localhost:8080/"
        },
        "id": "ZAmGLbVFOyDO",
        "outputId": "6fc00056-927e-4c65-871e-35f7387d837a"
      },
      "source": [
        "len(df.index)"
      ],
      "execution_count": 173,
      "outputs": [
        {
          "output_type": "execute_result",
          "data": {
            "text/plain": [
              "18189"
            ]
          },
          "metadata": {},
          "execution_count": 173
        }
      ]
    },
    {
      "cell_type": "code",
      "metadata": {
        "colab": {
          "base_uri": "https://localhost:8080/"
        },
        "id": "E9edrAj4QaB0",
        "outputId": "6b46af5f-77e5-4443-b257-fc28eb550185"
      },
      "source": [
        "type(subjective_riches)"
      ],
      "execution_count": 174,
      "outputs": [
        {
          "output_type": "execute_result",
          "data": {
            "text/plain": [
              "pandas.core.series.Series"
            ]
          },
          "metadata": {},
          "execution_count": 174
        }
      ]
    },
    {
      "cell_type": "code",
      "metadata": {
        "id": "4TH5pti0Qfje"
      },
      "source": [
        "subjective_df=pd.DataFrame(subjective_riches)"
      ],
      "execution_count": 175,
      "outputs": []
    },
    {
      "cell_type": "code",
      "metadata": {
        "colab": {
          "base_uri": "https://localhost:8080/"
        },
        "id": "geGuXWXpTHMI",
        "outputId": "b5c56c37-2350-4071-9b99-db1dffaae154"
      },
      "source": [
        "subjective_df.index"
      ],
      "execution_count": 176,
      "outputs": [
        {
          "output_type": "execute_result",
          "data": {
            "text/plain": [
              "Index(['AW1005987207', 'AW10083168508', 'AW10108518316', 'AW10192560152',\n",
              "       'AW1039734587YY', 'AW10414823617', 'AW10499348166OO', 'AW10537409847',\n",
              "       'AW10593137781', 'AW10684824993',\n",
              "       ...\n",
              "       'AW9169221869', 'AW9332387770', 'AW9418904597', 'AW9622509677',\n",
              "       'AW9724167447', 'AW9732731740', 'AW9792414598', 'AW9806860651',\n",
              "       'AW988514063OO', 'AW9961673406'],\n",
              "      dtype='object', name='worker', length=1056)"
            ]
          },
          "metadata": {},
          "execution_count": 176
        }
      ]
    },
    {
      "cell_type": "code",
      "metadata": {
        "colab": {
          "base_uri": "https://localhost:8080/",
          "height": 455
        },
        "id": "GaMBJdmVPLa0",
        "outputId": "9ec0946f-0c08-40f8-daa6-fa45b4cbb192"
      },
      "source": [
        "df_demographics = pd.concat([df_demographics,subjective_df], axis=1, join=\"inner\")\n",
        "df_demographics"
      ],
      "execution_count": 177,
      "outputs": [
        {
          "output_type": "execute_result",
          "data": {
            "text/html": [
              "<div>\n",
              "<style scoped>\n",
              "    .dataframe tbody tr th:only-of-type {\n",
              "        vertical-align: middle;\n",
              "    }\n",
              "\n",
              "    .dataframe tbody tr th {\n",
              "        vertical-align: top;\n",
              "    }\n",
              "\n",
              "    .dataframe thead th {\n",
              "        text-align: right;\n",
              "    }\n",
              "</style>\n",
              "<table border=\"1\" class=\"dataframe\">\n",
              "  <thead>\n",
              "    <tr style=\"text-align: right;\">\n",
              "      <th></th>\n",
              "      <th>age</th>\n",
              "      <th>male</th>\n",
              "      <th>income</th>\n",
              "      <th>education</th>\n",
              "      <th>race</th>\n",
              "      <th>(rating, mean)</th>\n",
              "    </tr>\n",
              "    <tr>\n",
              "      <th>worker</th>\n",
              "      <th></th>\n",
              "      <th></th>\n",
              "      <th></th>\n",
              "      <th></th>\n",
              "      <th></th>\n",
              "      <th></th>\n",
              "    </tr>\n",
              "  </thead>\n",
              "  <tbody>\n",
              "    <tr>\n",
              "      <th>AW31492615119</th>\n",
              "      <td>23</td>\n",
              "      <td>0</td>\n",
              "      <td>30000</td>\n",
              "      <td>Some college</td>\n",
              "      <td>Asian (non-Hispanic)</td>\n",
              "      <td>63.647059</td>\n",
              "    </tr>\n",
              "    <tr>\n",
              "      <th>AW45861491036</th>\n",
              "      <td>35</td>\n",
              "      <td>0</td>\n",
              "      <td>50000</td>\n",
              "      <td>Some college</td>\n",
              "      <td>Black (non-Hispanic)</td>\n",
              "      <td>53.764706</td>\n",
              "    </tr>\n",
              "    <tr>\n",
              "      <th>AW62562980372</th>\n",
              "      <td>28</td>\n",
              "      <td>0</td>\n",
              "      <td>30000</td>\n",
              "      <td>Some college</td>\n",
              "      <td>Hispanic (any race)</td>\n",
              "      <td>58.294118</td>\n",
              "    </tr>\n",
              "    <tr>\n",
              "      <th>AW9806860651</th>\n",
              "      <td>55</td>\n",
              "      <td>1</td>\n",
              "      <td>70000</td>\n",
              "      <td>Bachelor's degree</td>\n",
              "      <td>White (non-Hispanic)</td>\n",
              "      <td>33.529412</td>\n",
              "    </tr>\n",
              "    <tr>\n",
              "      <th>AW8132561106</th>\n",
              "      <td>38</td>\n",
              "      <td>0</td>\n",
              "      <td>50000</td>\n",
              "      <td>Master's degree</td>\n",
              "      <td>White (non-Hispanic)</td>\n",
              "      <td>77.705882</td>\n",
              "    </tr>\n",
              "    <tr>\n",
              "      <th>...</th>\n",
              "      <td>...</td>\n",
              "      <td>...</td>\n",
              "      <td>...</td>\n",
              "      <td>...</td>\n",
              "      <td>...</td>\n",
              "      <td>...</td>\n",
              "    </tr>\n",
              "    <tr>\n",
              "      <th>AW49464443148YY</th>\n",
              "      <td>22</td>\n",
              "      <td>0</td>\n",
              "      <td>10000</td>\n",
              "      <td>Some college</td>\n",
              "      <td>White (non-Hispanic)</td>\n",
              "      <td>73.705882</td>\n",
              "    </tr>\n",
              "    <tr>\n",
              "      <th>AW11201728006YY</th>\n",
              "      <td>24</td>\n",
              "      <td>1</td>\n",
              "      <td>90000</td>\n",
              "      <td>Some college</td>\n",
              "      <td>White (non-Hispanic)</td>\n",
              "      <td>39.470588</td>\n",
              "    </tr>\n",
              "    <tr>\n",
              "      <th>AW37808030322YY</th>\n",
              "      <td>27</td>\n",
              "      <td>0</td>\n",
              "      <td>30000</td>\n",
              "      <td>Bachelor's degree</td>\n",
              "      <td>White (non-Hispanic)</td>\n",
              "      <td>85.529412</td>\n",
              "    </tr>\n",
              "    <tr>\n",
              "      <th>AW36679818719YY</th>\n",
              "      <td>27</td>\n",
              "      <td>0</td>\n",
              "      <td>10000</td>\n",
              "      <td>Bachelor's degree</td>\n",
              "      <td>White (non-Hispanic)</td>\n",
              "      <td>71.117647</td>\n",
              "    </tr>\n",
              "    <tr>\n",
              "      <th>AW13380501976YY</th>\n",
              "      <td>28</td>\n",
              "      <td>1</td>\n",
              "      <td>70000</td>\n",
              "      <td>Master's degree</td>\n",
              "      <td>White (non-Hispanic)</td>\n",
              "      <td>80.764706</td>\n",
              "    </tr>\n",
              "  </tbody>\n",
              "</table>\n",
              "<p>1056 rows × 6 columns</p>\n",
              "</div>"
            ],
            "text/plain": [
              "                 age  male  ...                  race (rating, mean)\n",
              "worker                      ...                                     \n",
              "AW31492615119     23     0  ...  Asian (non-Hispanic)      63.647059\n",
              "AW45861491036     35     0  ...  Black (non-Hispanic)      53.764706\n",
              "AW62562980372     28     0  ...   Hispanic (any race)      58.294118\n",
              "AW9806860651      55     1  ...  White (non-Hispanic)      33.529412\n",
              "AW8132561106      38     0  ...  White (non-Hispanic)      77.705882\n",
              "...              ...   ...  ...                   ...            ...\n",
              "AW49464443148YY   22     0  ...  White (non-Hispanic)      73.705882\n",
              "AW11201728006YY   24     1  ...  White (non-Hispanic)      39.470588\n",
              "AW37808030322YY   27     0  ...  White (non-Hispanic)      85.529412\n",
              "AW36679818719YY   27     0  ...  White (non-Hispanic)      71.117647\n",
              "AW13380501976YY   28     1  ...  White (non-Hispanic)      80.764706\n",
              "\n",
              "[1056 rows x 6 columns]"
            ]
          },
          "metadata": {},
          "execution_count": 177
        }
      ]
    },
    {
      "cell_type": "code",
      "metadata": {
        "colab": {
          "base_uri": "https://localhost:8080/"
        },
        "id": "KLQxZ9fEUuyT",
        "outputId": "8da5f0a9-3c07-4271-8134-333379dbaab6"
      },
      "source": [
        "df_demographics.columns"
      ],
      "execution_count": 178,
      "outputs": [
        {
          "output_type": "execute_result",
          "data": {
            "text/plain": [
              "Index(['age', 'male', 'income', 'education', 'race', ('rating', 'mean')], dtype='object')"
            ]
          },
          "metadata": {},
          "execution_count": 178
        }
      ]
    },
    {
      "cell_type": "code",
      "metadata": {
        "id": "o-dCYb8bRRSk"
      },
      "source": [
        "\n",
        "df_demographics.rename(columns={('rating', 'mean'): 'subjective_riches'}, inplace=True)"
      ],
      "execution_count": 179,
      "outputs": []
    },
    {
      "cell_type": "code",
      "metadata": {
        "colab": {
          "base_uri": "https://localhost:8080/",
          "height": 455
        },
        "id": "d5sFx3R8VSz3",
        "outputId": "80a1d471-077d-4d3c-e42e-1568cb6e52af"
      },
      "source": [
        "df_demographics"
      ],
      "execution_count": 180,
      "outputs": [
        {
          "output_type": "execute_result",
          "data": {
            "text/html": [
              "<div>\n",
              "<style scoped>\n",
              "    .dataframe tbody tr th:only-of-type {\n",
              "        vertical-align: middle;\n",
              "    }\n",
              "\n",
              "    .dataframe tbody tr th {\n",
              "        vertical-align: top;\n",
              "    }\n",
              "\n",
              "    .dataframe thead th {\n",
              "        text-align: right;\n",
              "    }\n",
              "</style>\n",
              "<table border=\"1\" class=\"dataframe\">\n",
              "  <thead>\n",
              "    <tr style=\"text-align: right;\">\n",
              "      <th></th>\n",
              "      <th>age</th>\n",
              "      <th>male</th>\n",
              "      <th>income</th>\n",
              "      <th>education</th>\n",
              "      <th>race</th>\n",
              "      <th>subjective_riches</th>\n",
              "    </tr>\n",
              "    <tr>\n",
              "      <th>worker</th>\n",
              "      <th></th>\n",
              "      <th></th>\n",
              "      <th></th>\n",
              "      <th></th>\n",
              "      <th></th>\n",
              "      <th></th>\n",
              "    </tr>\n",
              "  </thead>\n",
              "  <tbody>\n",
              "    <tr>\n",
              "      <th>AW31492615119</th>\n",
              "      <td>23</td>\n",
              "      <td>0</td>\n",
              "      <td>30000</td>\n",
              "      <td>Some college</td>\n",
              "      <td>Asian (non-Hispanic)</td>\n",
              "      <td>63.647059</td>\n",
              "    </tr>\n",
              "    <tr>\n",
              "      <th>AW45861491036</th>\n",
              "      <td>35</td>\n",
              "      <td>0</td>\n",
              "      <td>50000</td>\n",
              "      <td>Some college</td>\n",
              "      <td>Black (non-Hispanic)</td>\n",
              "      <td>53.764706</td>\n",
              "    </tr>\n",
              "    <tr>\n",
              "      <th>AW62562980372</th>\n",
              "      <td>28</td>\n",
              "      <td>0</td>\n",
              "      <td>30000</td>\n",
              "      <td>Some college</td>\n",
              "      <td>Hispanic (any race)</td>\n",
              "      <td>58.294118</td>\n",
              "    </tr>\n",
              "    <tr>\n",
              "      <th>AW9806860651</th>\n",
              "      <td>55</td>\n",
              "      <td>1</td>\n",
              "      <td>70000</td>\n",
              "      <td>Bachelor's degree</td>\n",
              "      <td>White (non-Hispanic)</td>\n",
              "      <td>33.529412</td>\n",
              "    </tr>\n",
              "    <tr>\n",
              "      <th>AW8132561106</th>\n",
              "      <td>38</td>\n",
              "      <td>0</td>\n",
              "      <td>50000</td>\n",
              "      <td>Master's degree</td>\n",
              "      <td>White (non-Hispanic)</td>\n",
              "      <td>77.705882</td>\n",
              "    </tr>\n",
              "    <tr>\n",
              "      <th>...</th>\n",
              "      <td>...</td>\n",
              "      <td>...</td>\n",
              "      <td>...</td>\n",
              "      <td>...</td>\n",
              "      <td>...</td>\n",
              "      <td>...</td>\n",
              "    </tr>\n",
              "    <tr>\n",
              "      <th>AW49464443148YY</th>\n",
              "      <td>22</td>\n",
              "      <td>0</td>\n",
              "      <td>10000</td>\n",
              "      <td>Some college</td>\n",
              "      <td>White (non-Hispanic)</td>\n",
              "      <td>73.705882</td>\n",
              "    </tr>\n",
              "    <tr>\n",
              "      <th>AW11201728006YY</th>\n",
              "      <td>24</td>\n",
              "      <td>1</td>\n",
              "      <td>90000</td>\n",
              "      <td>Some college</td>\n",
              "      <td>White (non-Hispanic)</td>\n",
              "      <td>39.470588</td>\n",
              "    </tr>\n",
              "    <tr>\n",
              "      <th>AW37808030322YY</th>\n",
              "      <td>27</td>\n",
              "      <td>0</td>\n",
              "      <td>30000</td>\n",
              "      <td>Bachelor's degree</td>\n",
              "      <td>White (non-Hispanic)</td>\n",
              "      <td>85.529412</td>\n",
              "    </tr>\n",
              "    <tr>\n",
              "      <th>AW36679818719YY</th>\n",
              "      <td>27</td>\n",
              "      <td>0</td>\n",
              "      <td>10000</td>\n",
              "      <td>Bachelor's degree</td>\n",
              "      <td>White (non-Hispanic)</td>\n",
              "      <td>71.117647</td>\n",
              "    </tr>\n",
              "    <tr>\n",
              "      <th>AW13380501976YY</th>\n",
              "      <td>28</td>\n",
              "      <td>1</td>\n",
              "      <td>70000</td>\n",
              "      <td>Master's degree</td>\n",
              "      <td>White (non-Hispanic)</td>\n",
              "      <td>80.764706</td>\n",
              "    </tr>\n",
              "  </tbody>\n",
              "</table>\n",
              "<p>1056 rows × 6 columns</p>\n",
              "</div>"
            ],
            "text/plain": [
              "                 age  male  ...                  race subjective_riches\n",
              "worker                      ...                                        \n",
              "AW31492615119     23     0  ...  Asian (non-Hispanic)         63.647059\n",
              "AW45861491036     35     0  ...  Black (non-Hispanic)         53.764706\n",
              "AW62562980372     28     0  ...   Hispanic (any race)         58.294118\n",
              "AW9806860651      55     1  ...  White (non-Hispanic)         33.529412\n",
              "AW8132561106      38     0  ...  White (non-Hispanic)         77.705882\n",
              "...              ...   ...  ...                   ...               ...\n",
              "AW49464443148YY   22     0  ...  White (non-Hispanic)         73.705882\n",
              "AW11201728006YY   24     1  ...  White (non-Hispanic)         39.470588\n",
              "AW37808030322YY   27     0  ...  White (non-Hispanic)         85.529412\n",
              "AW36679818719YY   27     0  ...  White (non-Hispanic)         71.117647\n",
              "AW13380501976YY   28     1  ...  White (non-Hispanic)         80.764706\n",
              "\n",
              "[1056 rows x 6 columns]"
            ]
          },
          "metadata": {},
          "execution_count": 180
        }
      ]
    },
    {
      "cell_type": "markdown",
      "metadata": {
        "id": "Xj124gg1VePu"
      },
      "source": [
        "# D"
      ]
    },
    {
      "cell_type": "code",
      "metadata": {
        "colab": {
          "base_uri": "https://localhost:8080/"
        },
        "id": "Oudh4V2IiQSi",
        "outputId": "c1ad41a8-3f4e-4386-97e0-8f65a0735eb6"
      },
      "source": [
        "!pip3 install statsmodels"
      ],
      "execution_count": 182,
      "outputs": [
        {
          "output_type": "stream",
          "name": "stdout",
          "text": [
            "Requirement already satisfied: statsmodels in /usr/local/lib/python3.7/dist-packages (0.10.2)\n",
            "Requirement already satisfied: scipy>=0.18 in /usr/local/lib/python3.7/dist-packages (from statsmodels) (1.4.1)\n",
            "Requirement already satisfied: numpy>=1.11 in /usr/local/lib/python3.7/dist-packages (from statsmodels) (1.19.5)\n",
            "Requirement already satisfied: pandas>=0.19 in /usr/local/lib/python3.7/dist-packages (from statsmodels) (1.1.5)\n",
            "Requirement already satisfied: patsy>=0.4.0 in /usr/local/lib/python3.7/dist-packages (from statsmodels) (0.5.1)\n",
            "Requirement already satisfied: pytz>=2017.2 in /usr/local/lib/python3.7/dist-packages (from pandas>=0.19->statsmodels) (2018.9)\n",
            "Requirement already satisfied: python-dateutil>=2.7.3 in /usr/local/lib/python3.7/dist-packages (from pandas>=0.19->statsmodels) (2.8.2)\n",
            "Requirement already satisfied: six in /usr/local/lib/python3.7/dist-packages (from patsy>=0.4.0->statsmodels) (1.15.0)\n"
          ]
        }
      ]
    },
    {
      "cell_type": "code",
      "metadata": {
        "colab": {
          "base_uri": "https://localhost:8080/"
        },
        "id": "XM-Ezh5mVdPV",
        "outputId": "5c19d62f-3c3b-462f-97d7-68adb406b86a"
      },
      "source": [
        "# Import the `api` model of `statsmodels` under alias `sm`\n",
        "\n",
        "import statsmodels.api as sm\n",
        "\n",
        "# Import the `datetools` module from `pandas`\n",
        "\n",
        "# Add a constant \n",
        "X = sm.add_constant(df_demographics['income'])\n",
        "\n",
        "# Construct the model\n",
        "model = sm.OLS(df_demographics['subjective_riches'],X).fit()\n",
        "\n",
        "# Print the summary\n",
        "print(model.summary())"
      ],
      "execution_count": 192,
      "outputs": [
        {
          "output_type": "stream",
          "name": "stdout",
          "text": [
            "                            OLS Regression Results                            \n",
            "==============================================================================\n",
            "Dep. Variable:      subjective_riches   R-squared:                       0.038\n",
            "Model:                            OLS   Adj. R-squared:                  0.037\n",
            "Method:                 Least Squares   F-statistic:                     41.57\n",
            "Date:                Mon, 27 Sep 2021   Prob (F-statistic):           1.73e-10\n",
            "Time:                        23:23:25   Log-Likelihood:                -4587.5\n",
            "No. Observations:                1056   AIC:                             9179.\n",
            "Df Residuals:                    1054   BIC:                             9189.\n",
            "Df Model:                           1                                         \n",
            "Covariance Type:            nonrobust                                         \n",
            "==============================================================================\n",
            "                 coef    std err          t      P>|t|      [0.025      0.975]\n",
            "------------------------------------------------------------------------------\n",
            "const         56.2790      1.011     55.691      0.000      54.296      58.262\n",
            "income      9.269e-05   1.44e-05      6.448      0.000    6.45e-05       0.000\n",
            "==============================================================================\n",
            "Omnibus:                        8.356   Durbin-Watson:                   2.019\n",
            "Prob(Omnibus):                  0.015   Jarque-Bera (JB):                6.856\n",
            "Skew:                          -0.115   Prob(JB):                       0.0324\n",
            "Kurtosis:                       2.679   Cond. No.                     1.24e+05\n",
            "==============================================================================\n",
            "\n",
            "Warnings:\n",
            "[1] Standard Errors assume that the covariance matrix of the errors is correctly specified.\n",
            "[2] The condition number is large, 1.24e+05. This might indicate that there are\n",
            "strong multicollinearity or other numerical problems.\n"
          ]
        }
      ]
    },
    {
      "cell_type": "markdown",
      "metadata": {
        "id": "5jLkGEAcpLhM"
      },
      "source": [
        "### With a general form of : \n",
        "subjective_riches = 0.00009269(income) + 56.279\n",
        "A low std error compared to a high coefficient produces a high t statistic, which signifies a high significance for our coefficient (56.279) .\n",
        "The  p value of income is saying there is a 0% chance  the Income  variable has no effect on the dependent variable, subjective_riches.\n",
        "\n",
        "[0.025 and 0.975] are both measurements of values of our coefficients within 95% of our data, or within two standard deviations. Outside of these values can generally be considered outliers."
      ]
    },
    {
      "cell_type": "markdown",
      "metadata": {
        "id": "PKjvJgL8pVNs"
      },
      "source": [
        "E"
      ]
    },
    {
      "cell_type": "markdown",
      "metadata": {
        "id": "eiusaB2Tskuy"
      },
      "source": [
        "# 3"
      ]
    },
    {
      "cell_type": "code",
      "metadata": {
        "colab": {
          "base_uri": "https://localhost:8080/",
          "height": 206
        },
        "id": "90MU4devdBqG",
        "outputId": "ca3eafb1-2e06-4473-c853-daec9dc00ccc"
      },
      "source": [
        "\n",
        "cleaned_df.head()\n"
      ],
      "execution_count": 197,
      "outputs": [
        {
          "output_type": "execute_result",
          "data": {
            "text/html": [
              "<div>\n",
              "<style scoped>\n",
              "    .dataframe tbody tr th:only-of-type {\n",
              "        vertical-align: middle;\n",
              "    }\n",
              "\n",
              "    .dataframe tbody tr th {\n",
              "        vertical-align: top;\n",
              "    }\n",
              "\n",
              "    .dataframe thead th {\n",
              "        text-align: right;\n",
              "    }\n",
              "</style>\n",
              "<table border=\"1\" class=\"dataframe\">\n",
              "  <thead>\n",
              "    <tr style=\"text-align: right;\">\n",
              "      <th></th>\n",
              "      <th>aspect</th>\n",
              "      <th>worker</th>\n",
              "      <th>time</th>\n",
              "      <th>rating</th>\n",
              "    </tr>\n",
              "  </thead>\n",
              "  <tbody>\n",
              "    <tr>\n",
              "      <th>0</th>\n",
              "      <td>how happy you feel</td>\n",
              "      <td>AW31492615119</td>\n",
              "      <td>1502372036608</td>\n",
              "      <td>69</td>\n",
              "    </tr>\n",
              "    <tr>\n",
              "      <th>1</th>\n",
              "      <td>how much you like your home house or apartment</td>\n",
              "      <td>AW31492615119</td>\n",
              "      <td>1502372036695</td>\n",
              "      <td>67</td>\n",
              "    </tr>\n",
              "    <tr>\n",
              "      <th>2</th>\n",
              "      <td>how satisfied you are with your life</td>\n",
              "      <td>AW31492615119</td>\n",
              "      <td>1502372036780</td>\n",
              "      <td>67</td>\n",
              "    </tr>\n",
              "    <tr>\n",
              "      <th>3</th>\n",
              "      <td>the extent to which you feel the things you do...</td>\n",
              "      <td>AW31492615119</td>\n",
              "      <td>1502372036849</td>\n",
              "      <td>63</td>\n",
              "    </tr>\n",
              "    <tr>\n",
              "      <th>4</th>\n",
              "      <td>the quality of your sleep</td>\n",
              "      <td>AW31492615119</td>\n",
              "      <td>1502372036929</td>\n",
              "      <td>59</td>\n",
              "    </tr>\n",
              "  </tbody>\n",
              "</table>\n",
              "</div>"
            ],
            "text/plain": [
              "                                              aspect  ... rating\n",
              "0                                 how happy you feel  ...     69\n",
              "1     how much you like your home house or apartment  ...     67\n",
              "2               how satisfied you are with your life  ...     67\n",
              "3  the extent to which you feel the things you do...  ...     63\n",
              "4                          the quality of your sleep  ...     59\n",
              "\n",
              "[5 rows x 4 columns]"
            ]
          },
          "metadata": {},
          "execution_count": 197
        }
      ]
    },
    {
      "cell_type": "code",
      "metadata": {
        "colab": {
          "base_uri": "https://localhost:8080/",
          "height": 238
        },
        "id": "vJDbX2ALrEBQ",
        "outputId": "72bf9110-710c-478f-df1c-ea6481a01301"
      },
      "source": [
        "df_health=cleaned_df[cleaned_df[\"aspect\"]==\"your health\"]\n",
        "df_health.set_index(\"worker\" , inplace=True)\n",
        "df_health.head()"
      ],
      "execution_count": 200,
      "outputs": [
        {
          "output_type": "execute_result",
          "data": {
            "text/html": [
              "<div>\n",
              "<style scoped>\n",
              "    .dataframe tbody tr th:only-of-type {\n",
              "        vertical-align: middle;\n",
              "    }\n",
              "\n",
              "    .dataframe tbody tr th {\n",
              "        vertical-align: top;\n",
              "    }\n",
              "\n",
              "    .dataframe thead th {\n",
              "        text-align: right;\n",
              "    }\n",
              "</style>\n",
              "<table border=\"1\" class=\"dataframe\">\n",
              "  <thead>\n",
              "    <tr style=\"text-align: right;\">\n",
              "      <th></th>\n",
              "      <th>aspect</th>\n",
              "      <th>time</th>\n",
              "      <th>rating</th>\n",
              "    </tr>\n",
              "    <tr>\n",
              "      <th>worker</th>\n",
              "      <th></th>\n",
              "      <th></th>\n",
              "      <th></th>\n",
              "    </tr>\n",
              "  </thead>\n",
              "  <tbody>\n",
              "    <tr>\n",
              "      <th>AW31492615119</th>\n",
              "      <td>your health</td>\n",
              "      <td>1502372037637</td>\n",
              "      <td>67</td>\n",
              "    </tr>\n",
              "    <tr>\n",
              "      <th>AW45861491036</th>\n",
              "      <td>your health</td>\n",
              "      <td>1483197907952</td>\n",
              "      <td>61</td>\n",
              "    </tr>\n",
              "    <tr>\n",
              "      <th>AW62562980372</th>\n",
              "      <td>your health</td>\n",
              "      <td>1499791229928</td>\n",
              "      <td>66</td>\n",
              "    </tr>\n",
              "    <tr>\n",
              "      <th>AW9806860651</th>\n",
              "      <td>your health</td>\n",
              "      <td>1500067529629</td>\n",
              "      <td>39</td>\n",
              "    </tr>\n",
              "    <tr>\n",
              "      <th>AW8132561106</th>\n",
              "      <td>your health</td>\n",
              "      <td>1482545562518</td>\n",
              "      <td>79</td>\n",
              "    </tr>\n",
              "  </tbody>\n",
              "</table>\n",
              "</div>"
            ],
            "text/plain": [
              "                    aspect           time  rating\n",
              "worker                                           \n",
              "AW31492615119  your health  1502372037637      67\n",
              "AW45861491036  your health  1483197907952      61\n",
              "AW62562980372  your health  1499791229928      66\n",
              "AW9806860651   your health  1500067529629      39\n",
              "AW8132561106   your health  1482545562518      79"
            ]
          },
          "metadata": {},
          "execution_count": 200
        }
      ]
    },
    {
      "cell_type": "code",
      "metadata": {
        "colab": {
          "base_uri": "https://localhost:8080/",
          "height": 238
        },
        "id": "LzsV2b0tsTAR",
        "outputId": "e7fc5513-d6fb-4461-e5de-f2dc68926154"
      },
      "source": [
        "df_demographics = pd.concat([df_demographics,df_health], axis=1, join=\"inner\")\n",
        "df_demographics.head()"
      ],
      "execution_count": 201,
      "outputs": [
        {
          "output_type": "execute_result",
          "data": {
            "text/html": [
              "<div>\n",
              "<style scoped>\n",
              "    .dataframe tbody tr th:only-of-type {\n",
              "        vertical-align: middle;\n",
              "    }\n",
              "\n",
              "    .dataframe tbody tr th {\n",
              "        vertical-align: top;\n",
              "    }\n",
              "\n",
              "    .dataframe thead th {\n",
              "        text-align: right;\n",
              "    }\n",
              "</style>\n",
              "<table border=\"1\" class=\"dataframe\">\n",
              "  <thead>\n",
              "    <tr style=\"text-align: right;\">\n",
              "      <th></th>\n",
              "      <th>age</th>\n",
              "      <th>male</th>\n",
              "      <th>income</th>\n",
              "      <th>education</th>\n",
              "      <th>race</th>\n",
              "      <th>subjective_riches</th>\n",
              "      <th>aspect</th>\n",
              "      <th>time</th>\n",
              "      <th>rating</th>\n",
              "    </tr>\n",
              "    <tr>\n",
              "      <th>worker</th>\n",
              "      <th></th>\n",
              "      <th></th>\n",
              "      <th></th>\n",
              "      <th></th>\n",
              "      <th></th>\n",
              "      <th></th>\n",
              "      <th></th>\n",
              "      <th></th>\n",
              "      <th></th>\n",
              "    </tr>\n",
              "  </thead>\n",
              "  <tbody>\n",
              "    <tr>\n",
              "      <th>AW31492615119</th>\n",
              "      <td>23</td>\n",
              "      <td>0</td>\n",
              "      <td>30000</td>\n",
              "      <td>Some college</td>\n",
              "      <td>Asian (non-Hispanic)</td>\n",
              "      <td>63.647059</td>\n",
              "      <td>your health</td>\n",
              "      <td>1502372037637</td>\n",
              "      <td>67</td>\n",
              "    </tr>\n",
              "    <tr>\n",
              "      <th>AW45861491036</th>\n",
              "      <td>35</td>\n",
              "      <td>0</td>\n",
              "      <td>50000</td>\n",
              "      <td>Some college</td>\n",
              "      <td>Black (non-Hispanic)</td>\n",
              "      <td>53.764706</td>\n",
              "      <td>your health</td>\n",
              "      <td>1483197907952</td>\n",
              "      <td>61</td>\n",
              "    </tr>\n",
              "    <tr>\n",
              "      <th>AW62562980372</th>\n",
              "      <td>28</td>\n",
              "      <td>0</td>\n",
              "      <td>30000</td>\n",
              "      <td>Some college</td>\n",
              "      <td>Hispanic (any race)</td>\n",
              "      <td>58.294118</td>\n",
              "      <td>your health</td>\n",
              "      <td>1499791229928</td>\n",
              "      <td>66</td>\n",
              "    </tr>\n",
              "    <tr>\n",
              "      <th>AW9806860651</th>\n",
              "      <td>55</td>\n",
              "      <td>1</td>\n",
              "      <td>70000</td>\n",
              "      <td>Bachelor's degree</td>\n",
              "      <td>White (non-Hispanic)</td>\n",
              "      <td>33.529412</td>\n",
              "      <td>your health</td>\n",
              "      <td>1500067529629</td>\n",
              "      <td>39</td>\n",
              "    </tr>\n",
              "    <tr>\n",
              "      <th>AW8132561106</th>\n",
              "      <td>38</td>\n",
              "      <td>0</td>\n",
              "      <td>50000</td>\n",
              "      <td>Master's degree</td>\n",
              "      <td>White (non-Hispanic)</td>\n",
              "      <td>77.705882</td>\n",
              "      <td>your health</td>\n",
              "      <td>1482545562518</td>\n",
              "      <td>79</td>\n",
              "    </tr>\n",
              "  </tbody>\n",
              "</table>\n",
              "</div>"
            ],
            "text/plain": [
              "               age  male  income  ...       aspect           time  rating\n",
              "worker                            ...                                    \n",
              "AW31492615119   23     0   30000  ...  your health  1502372037637      67\n",
              "AW45861491036   35     0   50000  ...  your health  1483197907952      61\n",
              "AW62562980372   28     0   30000  ...  your health  1499791229928      66\n",
              "AW9806860651    55     1   70000  ...  your health  1500067529629      39\n",
              "AW8132561106    38     0   50000  ...  your health  1482545562518      79\n",
              "\n",
              "[5 rows x 9 columns]"
            ]
          },
          "metadata": {},
          "execution_count": 201
        }
      ]
    },
    {
      "cell_type": "code",
      "metadata": {
        "colab": {
          "base_uri": "https://localhost:8080/",
          "height": 238
        },
        "id": "nn5Gbe1Hsdfu",
        "outputId": "c72bb320-1279-49ff-9710-9c8d8c62c7a4"
      },
      "source": [
        "\n",
        "df_demographics.rename(columns={'rating': 'health'}, inplace=True)\n",
        "df_demographics.head()"
      ],
      "execution_count": 202,
      "outputs": [
        {
          "output_type": "execute_result",
          "data": {
            "text/html": [
              "<div>\n",
              "<style scoped>\n",
              "    .dataframe tbody tr th:only-of-type {\n",
              "        vertical-align: middle;\n",
              "    }\n",
              "\n",
              "    .dataframe tbody tr th {\n",
              "        vertical-align: top;\n",
              "    }\n",
              "\n",
              "    .dataframe thead th {\n",
              "        text-align: right;\n",
              "    }\n",
              "</style>\n",
              "<table border=\"1\" class=\"dataframe\">\n",
              "  <thead>\n",
              "    <tr style=\"text-align: right;\">\n",
              "      <th></th>\n",
              "      <th>age</th>\n",
              "      <th>male</th>\n",
              "      <th>income</th>\n",
              "      <th>education</th>\n",
              "      <th>race</th>\n",
              "      <th>subjective_riches</th>\n",
              "      <th>aspect</th>\n",
              "      <th>time</th>\n",
              "      <th>health</th>\n",
              "    </tr>\n",
              "    <tr>\n",
              "      <th>worker</th>\n",
              "      <th></th>\n",
              "      <th></th>\n",
              "      <th></th>\n",
              "      <th></th>\n",
              "      <th></th>\n",
              "      <th></th>\n",
              "      <th></th>\n",
              "      <th></th>\n",
              "      <th></th>\n",
              "    </tr>\n",
              "  </thead>\n",
              "  <tbody>\n",
              "    <tr>\n",
              "      <th>AW31492615119</th>\n",
              "      <td>23</td>\n",
              "      <td>0</td>\n",
              "      <td>30000</td>\n",
              "      <td>Some college</td>\n",
              "      <td>Asian (non-Hispanic)</td>\n",
              "      <td>63.647059</td>\n",
              "      <td>your health</td>\n",
              "      <td>1502372037637</td>\n",
              "      <td>67</td>\n",
              "    </tr>\n",
              "    <tr>\n",
              "      <th>AW45861491036</th>\n",
              "      <td>35</td>\n",
              "      <td>0</td>\n",
              "      <td>50000</td>\n",
              "      <td>Some college</td>\n",
              "      <td>Black (non-Hispanic)</td>\n",
              "      <td>53.764706</td>\n",
              "      <td>your health</td>\n",
              "      <td>1483197907952</td>\n",
              "      <td>61</td>\n",
              "    </tr>\n",
              "    <tr>\n",
              "      <th>AW62562980372</th>\n",
              "      <td>28</td>\n",
              "      <td>0</td>\n",
              "      <td>30000</td>\n",
              "      <td>Some college</td>\n",
              "      <td>Hispanic (any race)</td>\n",
              "      <td>58.294118</td>\n",
              "      <td>your health</td>\n",
              "      <td>1499791229928</td>\n",
              "      <td>66</td>\n",
              "    </tr>\n",
              "    <tr>\n",
              "      <th>AW9806860651</th>\n",
              "      <td>55</td>\n",
              "      <td>1</td>\n",
              "      <td>70000</td>\n",
              "      <td>Bachelor's degree</td>\n",
              "      <td>White (non-Hispanic)</td>\n",
              "      <td>33.529412</td>\n",
              "      <td>your health</td>\n",
              "      <td>1500067529629</td>\n",
              "      <td>39</td>\n",
              "    </tr>\n",
              "    <tr>\n",
              "      <th>AW8132561106</th>\n",
              "      <td>38</td>\n",
              "      <td>0</td>\n",
              "      <td>50000</td>\n",
              "      <td>Master's degree</td>\n",
              "      <td>White (non-Hispanic)</td>\n",
              "      <td>77.705882</td>\n",
              "      <td>your health</td>\n",
              "      <td>1482545562518</td>\n",
              "      <td>79</td>\n",
              "    </tr>\n",
              "  </tbody>\n",
              "</table>\n",
              "</div>"
            ],
            "text/plain": [
              "               age  male  income  ...       aspect           time  health\n",
              "worker                            ...                                    \n",
              "AW31492615119   23     0   30000  ...  your health  1502372037637      67\n",
              "AW45861491036   35     0   50000  ...  your health  1483197907952      61\n",
              "AW62562980372   28     0   30000  ...  your health  1499791229928      66\n",
              "AW9806860651    55     1   70000  ...  your health  1500067529629      39\n",
              "AW8132561106    38     0   50000  ...  your health  1482545562518      79\n",
              "\n",
              "[5 rows x 9 columns]"
            ]
          },
          "metadata": {},
          "execution_count": 202
        }
      ]
    },
    {
      "cell_type": "code",
      "metadata": {
        "id": "Xpruo_pvszq2"
      },
      "source": [
        "import pandas as pd\n",
        "import matplotlib.pyplot as plt\n",
        "import seaborn as sns"
      ],
      "execution_count": 203,
      "outputs": []
    },
    {
      "cell_type": "code",
      "metadata": {
        "colab": {
          "base_uri": "https://localhost:8080/",
          "height": 503
        },
        "id": "nwvGtLers9CM",
        "outputId": "05366f8f-24c6-4d6b-ba8c-14974b611d0a"
      },
      "source": [
        "fig, ax = plt.subplots()\n",
        "ax = sns.scatterplot(x = df_demographics['age'],     y = df_demographics['health'], hue = df_demographics['income']) \n",
        "plt.xlabel(\"\") \n",
        "plt.ylabel(selected_y_var) \n",
        "plt.title(\"Scatterplot of Palmer's Penguins\")\n",
        "plt.plot(fig)"
      ],
      "execution_count": 206,
      "outputs": [
        {
          "output_type": "error",
          "ename": "NameError",
          "evalue": "ignored",
          "traceback": [
            "\u001b[0;31m---------------------------------------------------------------------------\u001b[0m",
            "\u001b[0;31mNameError\u001b[0m                                 Traceback (most recent call last)",
            "\u001b[0;32m<ipython-input-206-e4e542f89cb5>\u001b[0m in \u001b[0;36m<module>\u001b[0;34m()\u001b[0m\n\u001b[1;32m      2\u001b[0m \u001b[0max\u001b[0m \u001b[0;34m=\u001b[0m \u001b[0msns\u001b[0m\u001b[0;34m.\u001b[0m\u001b[0mscatterplot\u001b[0m\u001b[0;34m(\u001b[0m\u001b[0mx\u001b[0m \u001b[0;34m=\u001b[0m \u001b[0mdf_demographics\u001b[0m\u001b[0;34m[\u001b[0m\u001b[0;34m'age'\u001b[0m\u001b[0;34m]\u001b[0m\u001b[0;34m,\u001b[0m     \u001b[0my\u001b[0m \u001b[0;34m=\u001b[0m \u001b[0mdf_demographics\u001b[0m\u001b[0;34m[\u001b[0m\u001b[0;34m'health'\u001b[0m\u001b[0;34m]\u001b[0m\u001b[0;34m,\u001b[0m \u001b[0mhue\u001b[0m \u001b[0;34m=\u001b[0m \u001b[0mdf_demographics\u001b[0m\u001b[0;34m[\u001b[0m\u001b[0;34m'income'\u001b[0m\u001b[0;34m]\u001b[0m\u001b[0;34m)\u001b[0m\u001b[0;34m\u001b[0m\u001b[0;34m\u001b[0m\u001b[0m\n\u001b[1;32m      3\u001b[0m \u001b[0mplt\u001b[0m\u001b[0;34m.\u001b[0m\u001b[0mxlabel\u001b[0m\u001b[0;34m(\u001b[0m\u001b[0;34m\"hola\"\u001b[0m\u001b[0;34m)\u001b[0m\u001b[0;34m\u001b[0m\u001b[0;34m\u001b[0m\u001b[0m\n\u001b[0;32m----> 4\u001b[0;31m \u001b[0mplt\u001b[0m\u001b[0;34m.\u001b[0m\u001b[0mylabel\u001b[0m\u001b[0;34m(\u001b[0m\u001b[0mselected_y_var\u001b[0m\u001b[0;34m)\u001b[0m\u001b[0;34m\u001b[0m\u001b[0;34m\u001b[0m\u001b[0m\n\u001b[0m\u001b[1;32m      5\u001b[0m \u001b[0mplt\u001b[0m\u001b[0;34m.\u001b[0m\u001b[0mtitle\u001b[0m\u001b[0;34m(\u001b[0m\u001b[0;34m\"Scatterplot of Palmer's Penguins\"\u001b[0m\u001b[0;34m)\u001b[0m\u001b[0;34m\u001b[0m\u001b[0;34m\u001b[0m\u001b[0m\n\u001b[1;32m      6\u001b[0m \u001b[0mplt\u001b[0m\u001b[0;34m.\u001b[0m\u001b[0mplot\u001b[0m\u001b[0;34m(\u001b[0m\u001b[0mfig\u001b[0m\u001b[0;34m)\u001b[0m\u001b[0;34m\u001b[0m\u001b[0;34m\u001b[0m\u001b[0m\n",
            "\u001b[0;31mNameError\u001b[0m: name 'selected_y_var' is not defined"
          ]
        },
        {
          "output_type": "display_data",
          "data": {
            "image/png": "[encoded data removed]",
            "text/plain": [
              "<Figure size 432x288 with 1 Axes>"
            ]
          },
          "metadata": {
            "needs_background": "light"
          }
        }
      ]
    },
    {
      "cell_type": "code",
      "metadata": {
        "colab": {
          "base_uri": "https://localhost:8080/",
          "height": 265
        },
        "id": "WLmilkVHuaQp",
        "outputId": "b5047f9e-d4a5-4829-8d13-eec1c69a7c9d"
      },
      "source": [
        "plt.plot(df_demographics['age'])\n",
        "plt.show()"
      ],
      "execution_count": 208,
      "outputs": [
        {
          "output_type": "display_data",
          "data": {
            "image/png": "[encoded data removed]",
            "text/plain": [
              "<Figure size 432x288 with 1 Axes>"
            ]
          },
          "metadata": {
            "needs_background": "light"
          }
        }
      ]
    },
    {
      "cell_type": "code",
      "metadata": {
        "colab": {
          "base_uri": "https://localhost:8080/",
          "height": 265
        },
        "id": "RciyAXYPuoJ8",
        "outputId": "38d29b60-e498-4406-8159-0ea1189ef47b"
      },
      "source": [
        "plt.plot(df_demographics['income'])\n",
        "plt.show()"
      ],
      "execution_count": 209,
      "outputs": [
        {
          "output_type": "display_data",
          "data": {
            "image/png": "[encoded data removed]",
            "text/plain": [
              "<Figure size 432x288 with 1 Axes>"
            ]
          },
          "metadata": {
            "needs_background": "light"
          }
        }
      ]
    },
    {
      "cell_type": "code",
      "metadata": {
        "colab": {
          "base_uri": "https://localhost:8080/",
          "height": 265
        },
        "id": "6sUaC7ZHurJV",
        "outputId": "4aadcfd8-c321-44ff-af7f-d0a3bef93723"
      },
      "source": [
        "plt.plot(df_demographics['health'])\n",
        "plt.show()"
      ],
      "execution_count": 210,
      "outputs": [
        {
          "output_type": "display_data",
          "data": {
            "image/png": "[encoded data removed]",
            "text/plain": [
              "<Figure size 432x288 with 1 Axes>"
            ]
          },
          "metadata": {
            "needs_background": "light"
          }
        }
      ]
    }
  ]
}