{
  "nbformat": 4,
  "nbformat_minor": 0,
  "metadata": {
    "colab": {
      "name": "Questions_&_Answers",
      "provenance": []
    },
    "kernelspec": {
      "name": "python3",
      "display_name": "Python 3"
    },
    "language_info": {
      "name": "python"
    },
    "accelerator": "GPU"
  },
  "cells": [
    {
      "cell_type": "markdown",
      "metadata": {
        "id": "PlVKs5skBuKH"
      },
      "source": [
        "# QUESTION 1"
      ]
    },
    {
      "cell_type": "code",
      "metadata": {
        "id": "BZmOMnXe8o9I"
      },
      "source": [
        "# Import frameworks\n",
        "import pandas as pd\n",
        "import numpy as np\n",
        "import matplotlib.pyplot as plt"
      ],
      "execution_count": 1,
      "outputs": []
    },
    {
      "cell_type": "markdown",
      "metadata": {
        "id": "CNm0Coj7Hu43"
      },
      "source": [
        "# A"
      ]
    },
    {
      "cell_type": "code",
      "metadata": {
        "id": "69az2Oz09NOa"
      },
      "source": [
        "df=pd.read_csv('/content/drive/MyDrive/research-assistant/ratings.csv')"
      ],
      "execution_count": 2,
      "outputs": []
    },
    {
      "cell_type": "code",
      "metadata": {
        "colab": {
          "base_uri": "https://localhost:8080/",
          "height": 204
        },
        "id": "oPdWfPkx85DP",
        "outputId": "224a9922-f56f-41f9-9ace-17b0de505f0e"
      },
      "source": [
        "df.head()"
      ],
      "execution_count": 3,
      "outputs": [
        {
          "output_type": "execute_result",
          "data": {
            "text/html": [
              "<div>\n",
              "<style scoped>\n",
              "    .dataframe tbody tr th:only-of-type {\n",
              "        vertical-align: middle;\n",
              "    }\n",
              "\n",
              "    .dataframe tbody tr th {\n",
              "        vertical-align: top;\n",
              "    }\n",
              "\n",
              "    .dataframe thead th {\n",
              "        text-align: right;\n",
              "    }\n",
              "</style>\n",
              "<table border=\"1\" class=\"dataframe\">\n",
              "  <thead>\n",
              "    <tr style=\"text-align: right;\">\n",
              "      <th></th>\n",
              "      <th>aspect</th>\n",
              "      <th>worker</th>\n",
              "      <th>time</th>\n",
              "      <th>rating</th>\n",
              "    </tr>\n",
              "  </thead>\n",
              "  <tbody>\n",
              "    <tr>\n",
              "      <th>0</th>\n",
              "      <td>how happy you feel</td>\n",
              "      <td>AW31492615119</td>\n",
              "      <td>1502372036608</td>\n",
              "      <td>69</td>\n",
              "    </tr>\n",
              "    <tr>\n",
              "      <th>1</th>\n",
              "      <td>how much you like your home house or apartment</td>\n",
              "      <td>AW31492615119</td>\n",
              "      <td>1502372036695</td>\n",
              "      <td>67</td>\n",
              "    </tr>\n",
              "    <tr>\n",
              "      <th>2</th>\n",
              "      <td>how satisfied you are with your life</td>\n",
              "      <td>AW31492615119</td>\n",
              "      <td>1502372036780</td>\n",
              "      <td>67</td>\n",
              "    </tr>\n",
              "    <tr>\n",
              "      <th>3</th>\n",
              "      <td>the extent to which you feel the things you do...</td>\n",
              "      <td>AW31492615119</td>\n",
              "      <td>1502372036849</td>\n",
              "      <td>63</td>\n",
              "    </tr>\n",
              "    <tr>\n",
              "      <th>4</th>\n",
              "      <td>the quality of your sleep</td>\n",
              "      <td>AW31492615119</td>\n",
              "      <td>1502372036929</td>\n",
              "      <td>59</td>\n",
              "    </tr>\n",
              "  </tbody>\n",
              "</table>\n",
              "</div>"
            ],
            "text/plain": [
              "                                              aspect  ... rating\n",
              "0                                 how happy you feel  ...     69\n",
              "1     how much you like your home house or apartment  ...     67\n",
              "2               how satisfied you are with your life  ...     67\n",
              "3  the extent to which you feel the things you do...  ...     63\n",
              "4                          the quality of your sleep  ...     59\n",
              "\n",
              "[5 rows x 4 columns]"
            ]
          },
          "metadata": {},
          "execution_count": 3
        }
      ]
    },
    {
      "cell_type": "code",
      "metadata": {
        "colab": {
          "base_uri": "https://localhost:8080/"
        },
        "id": "VmpwkEgV-Uyx",
        "outputId": "03a89da0-c7eb-49fc-b1f0-f57aa1cbea57"
      },
      "source": [
        "df.info()"
      ],
      "execution_count": 4,
      "outputs": [
        {
          "output_type": "stream",
          "name": "stdout",
          "text": [
            "<class 'pandas.core.frame.DataFrame'>\n",
            "RangeIndex: 18189 entries, 0 to 18188\n",
            "Data columns (total 4 columns):\n",
            " #   Column  Non-Null Count  Dtype \n",
            "---  ------  --------------  ----- \n",
            " 0   aspect  18189 non-null  object\n",
            " 1   worker  18189 non-null  object\n",
            " 2   time    18189 non-null  int64 \n",
            " 3   rating  18189 non-null  int64 \n",
            "dtypes: int64(2), object(2)\n",
            "memory usage: 568.5+ KB\n"
          ]
        }
      ]
    },
    {
      "cell_type": "code",
      "metadata": {
        "colab": {
          "base_uri": "https://localhost:8080/"
        },
        "id": "_V8lV9E1-qHP",
        "outputId": "623774de-be09-4f0f-f0d8-4a2e2d8e5c8e"
      },
      "source": [
        "df['worker'].value_counts()"
      ],
      "execution_count": 5,
      "outputs": [
        {
          "output_type": "execute_result",
          "data": {
            "text/plain": [
              "AW40198125962      20\n",
              "AW23505874445      20\n",
              "AW22873047111      20\n",
              "AW53929080867YY    20\n",
              "AW57885573501      20\n",
              "                   ..\n",
              "AW30692709530      17\n",
              "AW58543828679OO    17\n",
              "AW33666711284      17\n",
              "AW2099309200       17\n",
              "AW64549589396      17\n",
              "Name: worker, Length: 1056, dtype: int64"
            ]
          },
          "metadata": {},
          "execution_count": 5
        }
      ]
    },
    {
      "cell_type": "markdown",
      "metadata": {
        "id": "oPGnuWZQHz27"
      },
      "source": [
        "# B"
      ]
    },
    {
      "cell_type": "code",
      "metadata": {
        "colab": {
          "base_uri": "https://localhost:8080/"
        },
        "id": "zlfqjSKdB1fp",
        "outputId": "106ab639-ea96-47b2-c487-f58b268e3bfe"
      },
      "source": [
        "len(df['worker'].value_counts())"
      ],
      "execution_count": 6,
      "outputs": [
        {
          "output_type": "execute_result",
          "data": {
            "text/plain": [
              "1056"
            ]
          },
          "metadata": {},
          "execution_count": 6
        }
      ]
    },
    {
      "cell_type": "code",
      "metadata": {
        "colab": {
          "base_uri": "https://localhost:8080/"
        },
        "id": "KhUA1iuCAZRn",
        "outputId": "cb8c206a-5140-4e48-9961-6062aef8e629"
      },
      "source": [
        "df['aspect'].value_counts()"
      ],
      "execution_count": 7,
      "outputs": [
        {
          "output_type": "execute_result",
          "data": {
            "text/plain": [
              "the quality of your sleep                                                     1075\n",
              "your emotional stability                                                      1074\n",
              "you feeling that your work has value                                          1074\n",
              "you being a good moral person and living according to your personal values    1072\n",
              "your physical safety and security                                             1072\n",
              "you being able to spend enough time with the ones you love                    1071\n",
              "you not feeling anxious                                                       1071\n",
              "the extent to which you feel the things you do in your life are worthwhile    1071\n",
              "your mental health                                                            1071\n",
              "how satisfied you are with your life                                          1070\n",
              "your physical fitness                                                         1069\n",
              "your sense of connection with other people                                    1068\n",
              "how happy you feel                                                            1068\n",
              "your knowledge skills and access to information                               1068\n",
              "you being able to support your family financially                             1066\n",
              "your health                                                                   1065\n",
              "how much you like your home house or apartment                                1064\n",
              "Name: aspect, dtype: int64"
            ]
          },
          "metadata": {},
          "execution_count": 7
        }
      ]
    },
    {
      "cell_type": "code",
      "metadata": {
        "colab": {
          "base_uri": "https://localhost:8080/"
        },
        "id": "dpZ9AXxeAuRl",
        "outputId": "0ebed788-3320-43bb-9032-6f9b0e709d4f"
      },
      "source": [
        "len(df['aspect'].value_counts())"
      ],
      "execution_count": 8,
      "outputs": [
        {
          "output_type": "execute_result",
          "data": {
            "text/plain": [
              "17"
            ]
          },
          "metadata": {},
          "execution_count": 8
        }
      ]
    },
    {
      "cell_type": "markdown",
      "metadata": {
        "id": "1bnKHhL8Bn0A"
      },
      "source": [
        "# C"
      ]
    },
    {
      "cell_type": "code",
      "metadata": {
        "colab": {
          "base_uri": "https://localhost:8080/",
          "height": 204
        },
        "id": "SwHaPkwOBnRF",
        "outputId": "cc5dc1d3-b587-44a5-de19-36c59ecdecab"
      },
      "source": [
        "df[[\"aspect\" , \"worker\"]].head()"
      ],
      "execution_count": 9,
      "outputs": [
        {
          "output_type": "execute_result",
          "data": {
            "text/html": [
              "<div>\n",
              "<style scoped>\n",
              "    .dataframe tbody tr th:only-of-type {\n",
              "        vertical-align: middle;\n",
              "    }\n",
              "\n",
              "    .dataframe tbody tr th {\n",
              "        vertical-align: top;\n",
              "    }\n",
              "\n",
              "    .dataframe thead th {\n",
              "        text-align: right;\n",
              "    }\n",
              "</style>\n",
              "<table border=\"1\" class=\"dataframe\">\n",
              "  <thead>\n",
              "    <tr style=\"text-align: right;\">\n",
              "      <th></th>\n",
              "      <th>aspect</th>\n",
              "      <th>worker</th>\n",
              "    </tr>\n",
              "  </thead>\n",
              "  <tbody>\n",
              "    <tr>\n",
              "      <th>0</th>\n",
              "      <td>how happy you feel</td>\n",
              "      <td>AW31492615119</td>\n",
              "    </tr>\n",
              "    <tr>\n",
              "      <th>1</th>\n",
              "      <td>how much you like your home house or apartment</td>\n",
              "      <td>AW31492615119</td>\n",
              "    </tr>\n",
              "    <tr>\n",
              "      <th>2</th>\n",
              "      <td>how satisfied you are with your life</td>\n",
              "      <td>AW31492615119</td>\n",
              "    </tr>\n",
              "    <tr>\n",
              "      <th>3</th>\n",
              "      <td>the extent to which you feel the things you do...</td>\n",
              "      <td>AW31492615119</td>\n",
              "    </tr>\n",
              "    <tr>\n",
              "      <th>4</th>\n",
              "      <td>the quality of your sleep</td>\n",
              "      <td>AW31492615119</td>\n",
              "    </tr>\n",
              "  </tbody>\n",
              "</table>\n",
              "</div>"
            ],
            "text/plain": [
              "                                              aspect         worker\n",
              "0                                 how happy you feel  AW31492615119\n",
              "1     how much you like your home house or apartment  AW31492615119\n",
              "2               how satisfied you are with your life  AW31492615119\n",
              "3  the extent to which you feel the things you do...  AW31492615119\n",
              "4                          the quality of your sleep  AW31492615119"
            ]
          },
          "metadata": {},
          "execution_count": 9
        }
      ]
    },
    {
      "cell_type": "code",
      "metadata": {
        "colab": {
          "base_uri": "https://localhost:8080/"
        },
        "id": "jObA--cDFPsu",
        "outputId": "310a5da1-2f4f-4067-9489-e77575336e5a"
      },
      "source": [
        "values_duplicated= df.duplicated(subset=['aspect', 'worker'])\n",
        "values_duplicated"
      ],
      "execution_count": 10,
      "outputs": [
        {
          "output_type": "execute_result",
          "data": {
            "text/plain": [
              "0        False\n",
              "1        False\n",
              "2        False\n",
              "3        False\n",
              "4        False\n",
              "         ...  \n",
              "18184     True\n",
              "18185     True\n",
              "18186     True\n",
              "18187     True\n",
              "18188     True\n",
              "Length: 18189, dtype: bool"
            ]
          },
          "metadata": {},
          "execution_count": 10
        }
      ]
    },
    {
      "cell_type": "markdown",
      "metadata": {
        "id": "lyIj7IskF4kK"
      },
      "source": [
        "Number of repeated values"
      ]
    },
    {
      "cell_type": "code",
      "metadata": {
        "colab": {
          "base_uri": "https://localhost:8080/"
        },
        "id": "NcJOaEEzFYCP",
        "outputId": "765c376e-ff2f-4263-fdba-d497bb322597"
      },
      "source": [
        "values_duplicated.sum()"
      ],
      "execution_count": 11,
      "outputs": [
        {
          "output_type": "execute_result",
          "data": {
            "text/plain": [
              "237"
            ]
          },
          "metadata": {},
          "execution_count": 11
        }
      ]
    },
    {
      "cell_type": "code",
      "metadata": {
        "colab": {
          "base_uri": "https://localhost:8080/",
          "height": 419
        },
        "id": "-PmCLUKrF4Ca",
        "outputId": "e9d395c4-ac50-4852-b54f-ec29cd5a7122"
      },
      "source": [
        "df.loc[df.duplicated(keep='last', subset=['aspect', 'worker']), :]"
      ],
      "execution_count": 12,
      "outputs": [
        {
          "output_type": "execute_result",
          "data": {
            "text/html": [
              "<div>\n",
              "<style scoped>\n",
              "    .dataframe tbody tr th:only-of-type {\n",
              "        vertical-align: middle;\n",
              "    }\n",
              "\n",
              "    .dataframe tbody tr th {\n",
              "        vertical-align: top;\n",
              "    }\n",
              "\n",
              "    .dataframe thead th {\n",
              "        text-align: right;\n",
              "    }\n",
              "</style>\n",
              "<table border=\"1\" class=\"dataframe\">\n",
              "  <thead>\n",
              "    <tr style=\"text-align: right;\">\n",
              "      <th></th>\n",
              "      <th>aspect</th>\n",
              "      <th>worker</th>\n",
              "      <th>time</th>\n",
              "      <th>rating</th>\n",
              "    </tr>\n",
              "  </thead>\n",
              "  <tbody>\n",
              "    <tr>\n",
              "      <th>83</th>\n",
              "      <td>your physical safety and security</td>\n",
              "      <td>AW8132561106</td>\n",
              "      <td>1482545562860</td>\n",
              "      <td>89</td>\n",
              "    </tr>\n",
              "    <tr>\n",
              "      <th>114</th>\n",
              "      <td>your knowledge skills and access to information</td>\n",
              "      <td>AW35167700734</td>\n",
              "      <td>1502743102576</td>\n",
              "      <td>47</td>\n",
              "    </tr>\n",
              "    <tr>\n",
              "      <th>117</th>\n",
              "      <td>your physical safety and security</td>\n",
              "      <td>AW35167700734</td>\n",
              "      <td>1502743102820</td>\n",
              "      <td>38</td>\n",
              "    </tr>\n",
              "    <tr>\n",
              "      <th>187</th>\n",
              "      <td>how happy you feel</td>\n",
              "      <td>AW37637282089</td>\n",
              "      <td>1502492098560</td>\n",
              "      <td>36</td>\n",
              "    </tr>\n",
              "    <tr>\n",
              "      <th>392</th>\n",
              "      <td>how much you like your home house or apartment</td>\n",
              "      <td>AW47128939530</td>\n",
              "      <td>1482482253907</td>\n",
              "      <td>36</td>\n",
              "    </tr>\n",
              "    <tr>\n",
              "      <th>...</th>\n",
              "      <td>...</td>\n",
              "      <td>...</td>\n",
              "      <td>...</td>\n",
              "      <td>...</td>\n",
              "    </tr>\n",
              "    <tr>\n",
              "      <th>17593</th>\n",
              "      <td>your physical safety and security</td>\n",
              "      <td>AW17145364086YY</td>\n",
              "      <td>1502210295028</td>\n",
              "      <td>75</td>\n",
              "    </tr>\n",
              "    <tr>\n",
              "      <th>17662</th>\n",
              "      <td>your sense of connection with other people</td>\n",
              "      <td>AW57726153246YY</td>\n",
              "      <td>1502691722740</td>\n",
              "      <td>27</td>\n",
              "    </tr>\n",
              "    <tr>\n",
              "      <th>17712</th>\n",
              "      <td>your physical safety and security</td>\n",
              "      <td>AW11188437452YY</td>\n",
              "      <td>1502377805168</td>\n",
              "      <td>48</td>\n",
              "    </tr>\n",
              "    <tr>\n",
              "      <th>17907</th>\n",
              "      <td>you being able to spend enough time with the o...</td>\n",
              "      <td>AW37808030322YY</td>\n",
              "      <td>1493392032275</td>\n",
              "      <td>88</td>\n",
              "    </tr>\n",
              "    <tr>\n",
              "      <th>17932</th>\n",
              "      <td>your physical fitness</td>\n",
              "      <td>AW36679818719YY</td>\n",
              "      <td>1483146003582</td>\n",
              "      <td>63</td>\n",
              "    </tr>\n",
              "  </tbody>\n",
              "</table>\n",
              "<p>237 rows × 4 columns</p>\n",
              "</div>"
            ],
            "text/plain": [
              "                                                  aspect  ... rating\n",
              "83                     your physical safety and security  ...     89\n",
              "114      your knowledge skills and access to information  ...     47\n",
              "117                    your physical safety and security  ...     38\n",
              "187                                   how happy you feel  ...     36\n",
              "392       how much you like your home house or apartment  ...     36\n",
              "...                                                  ...  ...    ...\n",
              "17593                  your physical safety and security  ...     75\n",
              "17662         your sense of connection with other people  ...     27\n",
              "17712                  your physical safety and security  ...     48\n",
              "17907  you being able to spend enough time with the o...  ...     88\n",
              "17932                              your physical fitness  ...     63\n",
              "\n",
              "[237 rows x 4 columns]"
            ]
          },
          "metadata": {},
          "execution_count": 12
        }
      ]
    },
    {
      "cell_type": "code",
      "metadata": {
        "colab": {
          "base_uri": "https://localhost:8080/"
        },
        "id": "Q4EbK2I_JjJ1",
        "outputId": "26fae8cb-6746-4e38-9891-b5d776859655"
      },
      "source": [
        "len(df.loc[df.duplicated(keep='last', subset=['aspect', 'worker']), :])"
      ],
      "execution_count": 13,
      "outputs": [
        {
          "output_type": "execute_result",
          "data": {
            "text/plain": [
              "237"
            ]
          },
          "metadata": {},
          "execution_count": 13
        }
      ]
    },
    {
      "cell_type": "markdown",
      "metadata": {
        "id": "aan0At77IVHJ"
      },
      "source": [
        "Dropp"
      ]
    },
    {
      "cell_type": "code",
      "metadata": {
        "id": "Ho87duOVJXyx"
      },
      "source": [
        "cleaned_df=df.drop_duplicates(keep='last', subset=['aspect', 'worker'])"
      ],
      "execution_count": 14,
      "outputs": []
    },
    {
      "cell_type": "code",
      "metadata": {
        "colab": {
          "base_uri": "https://localhost:8080/"
        },
        "id": "ZAQ-tm8WJyPu",
        "outputId": "f0663114-342d-4ce4-8d00-27a781bffc77"
      },
      "source": [
        "cleaned_df.info()"
      ],
      "execution_count": 15,
      "outputs": [
        {
          "output_type": "stream",
          "name": "stdout",
          "text": [
            "<class 'pandas.core.frame.DataFrame'>\n",
            "Int64Index: 17952 entries, 0 to 18188\n",
            "Data columns (total 4 columns):\n",
            " #   Column  Non-Null Count  Dtype \n",
            "---  ------  --------------  ----- \n",
            " 0   aspect  17952 non-null  object\n",
            " 1   worker  17952 non-null  object\n",
            " 2   time    17952 non-null  int64 \n",
            " 3   rating  17952 non-null  int64 \n",
            "dtypes: int64(2), object(2)\n",
            "memory usage: 701.2+ KB\n"
          ]
        }
      ]
    },
    {
      "cell_type": "markdown",
      "metadata": {
        "id": "tiQiZqGDKOt-"
      },
      "source": [
        "# D"
      ]
    },
    {
      "cell_type": "code",
      "metadata": {
        "colab": {
          "base_uri": "https://localhost:8080/",
          "height": 0
        },
        "id": "wsfMCqn8KAem",
        "outputId": "bb0ed7bd-75a4-47c0-80e7-faafce800ff8"
      },
      "source": [
        "cleaned_df.head()"
      ],
      "execution_count": 16,
      "outputs": [
        {
          "output_type": "execute_result",
          "data": {
            "text/html": [
              "<div>\n",
              "<style scoped>\n",
              "    .dataframe tbody tr th:only-of-type {\n",
              "        vertical-align: middle;\n",
              "    }\n",
              "\n",
              "    .dataframe tbody tr th {\n",
              "        vertical-align: top;\n",
              "    }\n",
              "\n",
              "    .dataframe thead th {\n",
              "        text-align: right;\n",
              "    }\n",
              "</style>\n",
              "<table border=\"1\" class=\"dataframe\">\n",
              "  <thead>\n",
              "    <tr style=\"text-align: right;\">\n",
              "      <th></th>\n",
              "      <th>aspect</th>\n",
              "      <th>worker</th>\n",
              "      <th>time</th>\n",
              "      <th>rating</th>\n",
              "    </tr>\n",
              "  </thead>\n",
              "  <tbody>\n",
              "    <tr>\n",
              "      <th>0</th>\n",
              "      <td>how happy you feel</td>\n",
              "      <td>AW31492615119</td>\n",
              "      <td>1502372036608</td>\n",
              "      <td>69</td>\n",
              "    </tr>\n",
              "    <tr>\n",
              "      <th>1</th>\n",
              "      <td>how much you like your home house or apartment</td>\n",
              "      <td>AW31492615119</td>\n",
              "      <td>1502372036695</td>\n",
              "      <td>67</td>\n",
              "    </tr>\n",
              "    <tr>\n",
              "      <th>2</th>\n",
              "      <td>how satisfied you are with your life</td>\n",
              "      <td>AW31492615119</td>\n",
              "      <td>1502372036780</td>\n",
              "      <td>67</td>\n",
              "    </tr>\n",
              "    <tr>\n",
              "      <th>3</th>\n",
              "      <td>the extent to which you feel the things you do...</td>\n",
              "      <td>AW31492615119</td>\n",
              "      <td>1502372036849</td>\n",
              "      <td>63</td>\n",
              "    </tr>\n",
              "    <tr>\n",
              "      <th>4</th>\n",
              "      <td>the quality of your sleep</td>\n",
              "      <td>AW31492615119</td>\n",
              "      <td>1502372036929</td>\n",
              "      <td>59</td>\n",
              "    </tr>\n",
              "  </tbody>\n",
              "</table>\n",
              "</div>"
            ],
            "text/plain": [
              "                                              aspect  ... rating\n",
              "0                                 how happy you feel  ...     69\n",
              "1     how much you like your home house or apartment  ...     67\n",
              "2               how satisfied you are with your life  ...     67\n",
              "3  the extent to which you feel the things you do...  ...     63\n",
              "4                          the quality of your sleep  ...     59\n",
              "\n",
              "[5 rows x 4 columns]"
            ]
          },
          "metadata": {},
          "execution_count": 16
        }
      ]
    },
    {
      "cell_type": "code",
      "metadata": {
        "colab": {
          "base_uri": "https://localhost:8080/",
          "height": 0
        },
        "id": "Ay7mIctILS1-",
        "outputId": "2bbec248-8afc-404f-93a2-b1ff629a9911"
      },
      "source": [
        "new_df=cleaned_df.groupby(\"worker\").agg({\"rating\":['mean' , \"count\" , \"min\" , \"max\"]})\n",
        "new_df"
      ],
      "execution_count": 17,
      "outputs": [
        {
          "output_type": "execute_result",
          "data": {
            "text/html": [
              "<div>\n",
              "<style scoped>\n",
              "    .dataframe tbody tr th:only-of-type {\n",
              "        vertical-align: middle;\n",
              "    }\n",
              "\n",
              "    .dataframe tbody tr th {\n",
              "        vertical-align: top;\n",
              "    }\n",
              "\n",
              "    .dataframe thead tr th {\n",
              "        text-align: left;\n",
              "    }\n",
              "\n",
              "    .dataframe thead tr:last-of-type th {\n",
              "        text-align: right;\n",
              "    }\n",
              "</style>\n",
              "<table border=\"1\" class=\"dataframe\">\n",
              "  <thead>\n",
              "    <tr>\n",
              "      <th></th>\n",
              "      <th colspan=\"4\" halign=\"left\">rating</th>\n",
              "    </tr>\n",
              "    <tr>\n",
              "      <th></th>\n",
              "      <th>mean</th>\n",
              "      <th>count</th>\n",
              "      <th>min</th>\n",
              "      <th>max</th>\n",
              "    </tr>\n",
              "    <tr>\n",
              "      <th>worker</th>\n",
              "      <th></th>\n",
              "      <th></th>\n",
              "      <th></th>\n",
              "      <th></th>\n",
              "    </tr>\n",
              "  </thead>\n",
              "  <tbody>\n",
              "    <tr>\n",
              "      <th>AW1005987207</th>\n",
              "      <td>69.529412</td>\n",
              "      <td>17</td>\n",
              "      <td>53</td>\n",
              "      <td>78</td>\n",
              "    </tr>\n",
              "    <tr>\n",
              "      <th>AW10083168508</th>\n",
              "      <td>25.941176</td>\n",
              "      <td>17</td>\n",
              "      <td>1</td>\n",
              "      <td>45</td>\n",
              "    </tr>\n",
              "    <tr>\n",
              "      <th>AW10108518316</th>\n",
              "      <td>95.529412</td>\n",
              "      <td>17</td>\n",
              "      <td>84</td>\n",
              "      <td>100</td>\n",
              "    </tr>\n",
              "    <tr>\n",
              "      <th>AW10192560152</th>\n",
              "      <td>61.470588</td>\n",
              "      <td>17</td>\n",
              "      <td>44</td>\n",
              "      <td>75</td>\n",
              "    </tr>\n",
              "    <tr>\n",
              "      <th>AW1039734587YY</th>\n",
              "      <td>76.294118</td>\n",
              "      <td>17</td>\n",
              "      <td>59</td>\n",
              "      <td>93</td>\n",
              "    </tr>\n",
              "    <tr>\n",
              "      <th>...</th>\n",
              "      <td>...</td>\n",
              "      <td>...</td>\n",
              "      <td>...</td>\n",
              "      <td>...</td>\n",
              "    </tr>\n",
              "    <tr>\n",
              "      <th>AW9732731740</th>\n",
              "      <td>77.529412</td>\n",
              "      <td>17</td>\n",
              "      <td>64</td>\n",
              "      <td>85</td>\n",
              "    </tr>\n",
              "    <tr>\n",
              "      <th>AW9792414598</th>\n",
              "      <td>43.352941</td>\n",
              "      <td>17</td>\n",
              "      <td>27</td>\n",
              "      <td>59</td>\n",
              "    </tr>\n",
              "    <tr>\n",
              "      <th>AW9806860651</th>\n",
              "      <td>33.529412</td>\n",
              "      <td>17</td>\n",
              "      <td>19</td>\n",
              "      <td>53</td>\n",
              "    </tr>\n",
              "    <tr>\n",
              "      <th>AW988514063OO</th>\n",
              "      <td>60.235294</td>\n",
              "      <td>17</td>\n",
              "      <td>48</td>\n",
              "      <td>72</td>\n",
              "    </tr>\n",
              "    <tr>\n",
              "      <th>AW9961673406</th>\n",
              "      <td>86.882353</td>\n",
              "      <td>17</td>\n",
              "      <td>76</td>\n",
              "      <td>96</td>\n",
              "    </tr>\n",
              "  </tbody>\n",
              "</table>\n",
              "<p>1056 rows × 4 columns</p>\n",
              "</div>"
            ],
            "text/plain": [
              "                   rating               \n",
              "                     mean count min  max\n",
              "worker                                  \n",
              "AW1005987207    69.529412    17  53   78\n",
              "AW10083168508   25.941176    17   1   45\n",
              "AW10108518316   95.529412    17  84  100\n",
              "AW10192560152   61.470588    17  44   75\n",
              "AW1039734587YY  76.294118    17  59   93\n",
              "...                   ...   ...  ..  ...\n",
              "AW9732731740    77.529412    17  64   85\n",
              "AW9792414598    43.352941    17  27   59\n",
              "AW9806860651    33.529412    17  19   53\n",
              "AW988514063OO   60.235294    17  48   72\n",
              "AW9961673406    86.882353    17  76   96\n",
              "\n",
              "[1056 rows x 4 columns]"
            ]
          },
          "metadata": {},
          "execution_count": 17
        }
      ]
    },
    {
      "cell_type": "code",
      "metadata": {
        "colab": {
          "base_uri": "https://localhost:8080/"
        },
        "id": "lJQdRY1HNJXO",
        "outputId": "60cb128c-f633-4650-9064-dbef74fdb3d8"
      },
      "source": [
        "new_df.info()"
      ],
      "execution_count": 18,
      "outputs": [
        {
          "output_type": "stream",
          "name": "stdout",
          "text": [
            "<class 'pandas.core.frame.DataFrame'>\n",
            "Index: 1056 entries, AW1005987207 to AW9961673406\n",
            "Data columns (total 4 columns):\n",
            " #   Column           Non-Null Count  Dtype  \n",
            "---  ------           --------------  -----  \n",
            " 0   (rating, mean)   1056 non-null   float64\n",
            " 1   (rating, count)  1056 non-null   int64  \n",
            " 2   (rating, min)    1056 non-null   int64  \n",
            " 3   (rating, max)    1056 non-null   int64  \n",
            "dtypes: float64(1), int64(3)\n",
            "memory usage: 41.2+ KB\n"
          ]
        }
      ]
    },
    {
      "cell_type": "code",
      "metadata": {
        "colab": {
          "base_uri": "https://localhost:8080/"
        },
        "id": "ktAOucFZNbDu",
        "outputId": "4f85728d-c081-4d71-c9c5-f404e7574d61"
      },
      "source": [
        "new_df.columns"
      ],
      "execution_count": 19,
      "outputs": [
        {
          "output_type": "execute_result",
          "data": {
            "text/plain": [
              "MultiIndex([('rating',  'mean'),\n",
              "            ('rating', 'count'),\n",
              "            ('rating',   'min'),\n",
              "            ('rating',   'max')],\n",
              "           )"
            ]
          },
          "metadata": {},
          "execution_count": 19
        }
      ]
    },
    {
      "cell_type": "code",
      "metadata": {
        "colab": {
          "base_uri": "https://localhost:8080/"
        },
        "id": "mnhWzV7CNvFJ",
        "outputId": "284d8a13-4e74-468b-a539-260d2d850d56"
      },
      "source": [
        "subjective_riches = new_df[('rating',  'mean')]\n",
        "subjective_riches"
      ],
      "execution_count": 20,
      "outputs": [
        {
          "output_type": "execute_result",
          "data": {
            "text/plain": [
              "worker\n",
              "AW1005987207      69.529412\n",
              "AW10083168508     25.941176\n",
              "AW10108518316     95.529412\n",
              "AW10192560152     61.470588\n",
              "AW1039734587YY    76.294118\n",
              "                    ...    \n",
              "AW9732731740      77.529412\n",
              "AW9792414598      43.352941\n",
              "AW9806860651      33.529412\n",
              "AW988514063OO     60.235294\n",
              "AW9961673406      86.882353\n",
              "Name: (rating, mean), Length: 1056, dtype: float64"
            ]
          },
          "metadata": {},
          "execution_count": 20
        }
      ]
    },
    {
      "cell_type": "code",
      "metadata": {
        "colab": {
          "base_uri": "https://localhost:8080/"
        },
        "id": "ReIrl2eJOCve",
        "outputId": "2ef7411f-d479-46c8-b3c0-e31a1f3c9786"
      },
      "source": [
        "subjective_riches.describe()"
      ],
      "execution_count": 21,
      "outputs": [
        {
          "output_type": "execute_result",
          "data": {
            "text/plain": [
              "count    1056.000000\n",
              "mean       61.641154\n",
              "std        19.012507\n",
              "min         5.764706\n",
              "25%        49.058824\n",
              "50%        61.441176\n",
              "75%        75.073529\n",
              "max       100.000000\n",
              "Name: (rating, mean), dtype: float64"
            ]
          },
          "metadata": {},
          "execution_count": 21
        }
      ]
    },
    {
      "cell_type": "markdown",
      "metadata": {
        "id": "iohpz3ZUOYge"
      },
      "source": [
        "# QUESTION 2\n"
      ]
    },
    {
      "cell_type": "markdown",
      "metadata": {
        "id": "i3eesKduPGHJ"
      },
      "source": [
        "# A"
      ]
    },
    {
      "cell_type": "code",
      "metadata": {
        "id": "rw1sS3opOV4e"
      },
      "source": [
        "df_demographics=pd.read_csv(\"/content/drive/MyDrive/research-assistant/demographics.csv\")"
      ],
      "execution_count": 22,
      "outputs": []
    },
    {
      "cell_type": "code",
      "metadata": {
        "colab": {
          "base_uri": "https://localhost:8080/",
          "height": 0
        },
        "id": "_Z45RM2ROrl8",
        "outputId": "858e4916-4b5c-4957-e57f-04450473f7e6"
      },
      "source": [
        "df_demographics.head()"
      ],
      "execution_count": 23,
      "outputs": [
        {
          "output_type": "execute_result",
          "data": {
            "text/html": [
              "<div>\n",
              "<style scoped>\n",
              "    .dataframe tbody tr th:only-of-type {\n",
              "        vertical-align: middle;\n",
              "    }\n",
              "\n",
              "    .dataframe tbody tr th {\n",
              "        vertical-align: top;\n",
              "    }\n",
              "\n",
              "    .dataframe thead th {\n",
              "        text-align: right;\n",
              "    }\n",
              "</style>\n",
              "<table border=\"1\" class=\"dataframe\">\n",
              "  <thead>\n",
              "    <tr style=\"text-align: right;\">\n",
              "      <th></th>\n",
              "      <th>worker</th>\n",
              "      <th>age</th>\n",
              "      <th>male</th>\n",
              "      <th>income</th>\n",
              "      <th>education</th>\n",
              "      <th>race</th>\n",
              "    </tr>\n",
              "  </thead>\n",
              "  <tbody>\n",
              "    <tr>\n",
              "      <th>0</th>\n",
              "      <td>AW31492615119</td>\n",
              "      <td>23</td>\n",
              "      <td>0</td>\n",
              "      <td>30000</td>\n",
              "      <td>Some college</td>\n",
              "      <td>Asian (non-Hispanic)</td>\n",
              "    </tr>\n",
              "    <tr>\n",
              "      <th>1</th>\n",
              "      <td>AW45861491036</td>\n",
              "      <td>35</td>\n",
              "      <td>0</td>\n",
              "      <td>50000</td>\n",
              "      <td>Some college</td>\n",
              "      <td>Black (non-Hispanic)</td>\n",
              "    </tr>\n",
              "    <tr>\n",
              "      <th>2</th>\n",
              "      <td>AW62562980372</td>\n",
              "      <td>28</td>\n",
              "      <td>0</td>\n",
              "      <td>30000</td>\n",
              "      <td>Some college</td>\n",
              "      <td>Hispanic (any race)</td>\n",
              "    </tr>\n",
              "    <tr>\n",
              "      <th>3</th>\n",
              "      <td>AW9806860651</td>\n",
              "      <td>55</td>\n",
              "      <td>1</td>\n",
              "      <td>70000</td>\n",
              "      <td>Bachelor's degree</td>\n",
              "      <td>White (non-Hispanic)</td>\n",
              "    </tr>\n",
              "    <tr>\n",
              "      <th>4</th>\n",
              "      <td>AW8132561106</td>\n",
              "      <td>38</td>\n",
              "      <td>0</td>\n",
              "      <td>50000</td>\n",
              "      <td>Master's degree</td>\n",
              "      <td>White (non-Hispanic)</td>\n",
              "    </tr>\n",
              "  </tbody>\n",
              "</table>\n",
              "</div>"
            ],
            "text/plain": [
              "          worker  age  male  income          education                  race\n",
              "0  AW31492615119   23     0   30000       Some college  Asian (non-Hispanic)\n",
              "1  AW45861491036   35     0   50000       Some college  Black (non-Hispanic)\n",
              "2  AW62562980372   28     0   30000       Some college   Hispanic (any race)\n",
              "3   AW9806860651   55     1   70000  Bachelor's degree  White (non-Hispanic)\n",
              "4   AW8132561106   38     0   50000    Master's degree  White (non-Hispanic)"
            ]
          },
          "metadata": {},
          "execution_count": 23
        }
      ]
    },
    {
      "cell_type": "code",
      "metadata": {
        "id": "krdc53fQUJj0"
      },
      "source": [
        "df_demographics.set_index(\"worker\" , inplace=True)"
      ],
      "execution_count": 24,
      "outputs": []
    },
    {
      "cell_type": "code",
      "metadata": {
        "colab": {
          "base_uri": "https://localhost:8080/",
          "height": 0
        },
        "id": "xRmqnwbqUZn-",
        "outputId": "80744b09-4fd6-489c-8200-46aa4df39e39"
      },
      "source": [
        "df_demographics.head()"
      ],
      "execution_count": 25,
      "outputs": [
        {
          "output_type": "execute_result",
          "data": {
            "text/html": [
              "<div>\n",
              "<style scoped>\n",
              "    .dataframe tbody tr th:only-of-type {\n",
              "        vertical-align: middle;\n",
              "    }\n",
              "\n",
              "    .dataframe tbody tr th {\n",
              "        vertical-align: top;\n",
              "    }\n",
              "\n",
              "    .dataframe thead th {\n",
              "        text-align: right;\n",
              "    }\n",
              "</style>\n",
              "<table border=\"1\" class=\"dataframe\">\n",
              "  <thead>\n",
              "    <tr style=\"text-align: right;\">\n",
              "      <th></th>\n",
              "      <th>age</th>\n",
              "      <th>male</th>\n",
              "      <th>income</th>\n",
              "      <th>education</th>\n",
              "      <th>race</th>\n",
              "    </tr>\n",
              "    <tr>\n",
              "      <th>worker</th>\n",
              "      <th></th>\n",
              "      <th></th>\n",
              "      <th></th>\n",
              "      <th></th>\n",
              "      <th></th>\n",
              "    </tr>\n",
              "  </thead>\n",
              "  <tbody>\n",
              "    <tr>\n",
              "      <th>AW31492615119</th>\n",
              "      <td>23</td>\n",
              "      <td>0</td>\n",
              "      <td>30000</td>\n",
              "      <td>Some college</td>\n",
              "      <td>Asian (non-Hispanic)</td>\n",
              "    </tr>\n",
              "    <tr>\n",
              "      <th>AW45861491036</th>\n",
              "      <td>35</td>\n",
              "      <td>0</td>\n",
              "      <td>50000</td>\n",
              "      <td>Some college</td>\n",
              "      <td>Black (non-Hispanic)</td>\n",
              "    </tr>\n",
              "    <tr>\n",
              "      <th>AW62562980372</th>\n",
              "      <td>28</td>\n",
              "      <td>0</td>\n",
              "      <td>30000</td>\n",
              "      <td>Some college</td>\n",
              "      <td>Hispanic (any race)</td>\n",
              "    </tr>\n",
              "    <tr>\n",
              "      <th>AW9806860651</th>\n",
              "      <td>55</td>\n",
              "      <td>1</td>\n",
              "      <td>70000</td>\n",
              "      <td>Bachelor's degree</td>\n",
              "      <td>White (non-Hispanic)</td>\n",
              "    </tr>\n",
              "    <tr>\n",
              "      <th>AW8132561106</th>\n",
              "      <td>38</td>\n",
              "      <td>0</td>\n",
              "      <td>50000</td>\n",
              "      <td>Master's degree</td>\n",
              "      <td>White (non-Hispanic)</td>\n",
              "    </tr>\n",
              "  </tbody>\n",
              "</table>\n",
              "</div>"
            ],
            "text/plain": [
              "               age  male  income          education                  race\n",
              "worker                                                                   \n",
              "AW31492615119   23     0   30000       Some college  Asian (non-Hispanic)\n",
              "AW45861491036   35     0   50000       Some college  Black (non-Hispanic)\n",
              "AW62562980372   28     0   30000       Some college   Hispanic (any race)\n",
              "AW9806860651    55     1   70000  Bachelor's degree  White (non-Hispanic)\n",
              "AW8132561106    38     0   50000    Master's degree  White (non-Hispanic)"
            ]
          },
          "metadata": {},
          "execution_count": 25
        }
      ]
    },
    {
      "cell_type": "markdown",
      "metadata": {
        "id": "UzWobnSePI6-"
      },
      "source": [
        "# B"
      ]
    },
    {
      "cell_type": "code",
      "metadata": {
        "colab": {
          "base_uri": "https://localhost:8080/"
        },
        "id": "ZAmGLbVFOyDO",
        "outputId": "92afb308-e65a-4ead-a7a9-78e6bddd00d9"
      },
      "source": [
        "len(df.index)"
      ],
      "execution_count": 26,
      "outputs": [
        {
          "output_type": "execute_result",
          "data": {
            "text/plain": [
              "18189"
            ]
          },
          "metadata": {},
          "execution_count": 26
        }
      ]
    },
    {
      "cell_type": "code",
      "metadata": {
        "colab": {
          "base_uri": "https://localhost:8080/"
        },
        "id": "E9edrAj4QaB0",
        "outputId": "924259f1-495f-4304-fac8-5a6cfa34695d"
      },
      "source": [
        "type(subjective_riches)"
      ],
      "execution_count": 27,
      "outputs": [
        {
          "output_type": "execute_result",
          "data": {
            "text/plain": [
              "pandas.core.series.Series"
            ]
          },
          "metadata": {},
          "execution_count": 27
        }
      ]
    },
    {
      "cell_type": "code",
      "metadata": {
        "id": "4TH5pti0Qfje"
      },
      "source": [
        "subjective_df=pd.DataFrame(subjective_riches)"
      ],
      "execution_count": 28,
      "outputs": []
    },
    {
      "cell_type": "code",
      "metadata": {
        "colab": {
          "base_uri": "https://localhost:8080/"
        },
        "id": "geGuXWXpTHMI",
        "outputId": "dec9fac4-e6dc-4fe2-9d02-b5c376ce25b7"
      },
      "source": [
        "subjective_df.index"
      ],
      "execution_count": 29,
      "outputs": [
        {
          "output_type": "execute_result",
          "data": {
            "text/plain": [
              "Index(['AW1005987207', 'AW10083168508', 'AW10108518316', 'AW10192560152',\n",
              "       'AW1039734587YY', 'AW10414823617', 'AW10499348166OO', 'AW10537409847',\n",
              "       'AW10593137781', 'AW10684824993',\n",
              "       ...\n",
              "       'AW9169221869', 'AW9332387770', 'AW9418904597', 'AW9622509677',\n",
              "       'AW9724167447', 'AW9732731740', 'AW9792414598', 'AW9806860651',\n",
              "       'AW988514063OO', 'AW9961673406'],\n",
              "      dtype='object', name='worker', length=1056)"
            ]
          },
          "metadata": {},
          "execution_count": 29
        }
      ]
    },
    {
      "cell_type": "code",
      "metadata": {
        "colab": {
          "base_uri": "https://localhost:8080/",
          "height": 0
        },
        "id": "GaMBJdmVPLa0",
        "outputId": "9363de34-abb5-4620-8f2b-65a90d5f8553"
      },
      "source": [
        "df_demographics = pd.concat([df_demographics,subjective_df], axis=1, join=\"inner\")\n",
        "df_demographics"
      ],
      "execution_count": 30,
      "outputs": [
        {
          "output_type": "execute_result",
          "data": {
            "text/html": [
              "<div>\n",
              "<style scoped>\n",
              "    .dataframe tbody tr th:only-of-type {\n",
              "        vertical-align: middle;\n",
              "    }\n",
              "\n",
              "    .dataframe tbody tr th {\n",
              "        vertical-align: top;\n",
              "    }\n",
              "\n",
              "    .dataframe thead th {\n",
              "        text-align: right;\n",
              "    }\n",
              "</style>\n",
              "<table border=\"1\" class=\"dataframe\">\n",
              "  <thead>\n",
              "    <tr style=\"text-align: right;\">\n",
              "      <th></th>\n",
              "      <th>age</th>\n",
              "      <th>male</th>\n",
              "      <th>income</th>\n",
              "      <th>education</th>\n",
              "      <th>race</th>\n",
              "      <th>(rating, mean)</th>\n",
              "    </tr>\n",
              "    <tr>\n",
              "      <th>worker</th>\n",
              "      <th></th>\n",
              "      <th></th>\n",
              "      <th></th>\n",
              "      <th></th>\n",
              "      <th></th>\n",
              "      <th></th>\n",
              "    </tr>\n",
              "  </thead>\n",
              "  <tbody>\n",
              "    <tr>\n",
              "      <th>AW31492615119</th>\n",
              "      <td>23</td>\n",
              "      <td>0</td>\n",
              "      <td>30000</td>\n",
              "      <td>Some college</td>\n",
              "      <td>Asian (non-Hispanic)</td>\n",
              "      <td>63.647059</td>\n",
              "    </tr>\n",
              "    <tr>\n",
              "      <th>AW45861491036</th>\n",
              "      <td>35</td>\n",
              "      <td>0</td>\n",
              "      <td>50000</td>\n",
              "      <td>Some college</td>\n",
              "      <td>Black (non-Hispanic)</td>\n",
              "      <td>53.764706</td>\n",
              "    </tr>\n",
              "    <tr>\n",
              "      <th>AW62562980372</th>\n",
              "      <td>28</td>\n",
              "      <td>0</td>\n",
              "      <td>30000</td>\n",
              "      <td>Some college</td>\n",
              "      <td>Hispanic (any race)</td>\n",
              "      <td>58.294118</td>\n",
              "    </tr>\n",
              "    <tr>\n",
              "      <th>AW9806860651</th>\n",
              "      <td>55</td>\n",
              "      <td>1</td>\n",
              "      <td>70000</td>\n",
              "      <td>Bachelor's degree</td>\n",
              "      <td>White (non-Hispanic)</td>\n",
              "      <td>33.529412</td>\n",
              "    </tr>\n",
              "    <tr>\n",
              "      <th>AW8132561106</th>\n",
              "      <td>38</td>\n",
              "      <td>0</td>\n",
              "      <td>50000</td>\n",
              "      <td>Master's degree</td>\n",
              "      <td>White (non-Hispanic)</td>\n",
              "      <td>77.705882</td>\n",
              "    </tr>\n",
              "    <tr>\n",
              "      <th>...</th>\n",
              "      <td>...</td>\n",
              "      <td>...</td>\n",
              "      <td>...</td>\n",
              "      <td>...</td>\n",
              "      <td>...</td>\n",
              "      <td>...</td>\n",
              "    </tr>\n",
              "    <tr>\n",
              "      <th>AW49464443148YY</th>\n",
              "      <td>22</td>\n",
              "      <td>0</td>\n",
              "      <td>10000</td>\n",
              "      <td>Some college</td>\n",
              "      <td>White (non-Hispanic)</td>\n",
              "      <td>73.705882</td>\n",
              "    </tr>\n",
              "    <tr>\n",
              "      <th>AW11201728006YY</th>\n",
              "      <td>24</td>\n",
              "      <td>1</td>\n",
              "      <td>90000</td>\n",
              "      <td>Some college</td>\n",
              "      <td>White (non-Hispanic)</td>\n",
              "      <td>39.470588</td>\n",
              "    </tr>\n",
              "    <tr>\n",
              "      <th>AW37808030322YY</th>\n",
              "      <td>27</td>\n",
              "      <td>0</td>\n",
              "      <td>30000</td>\n",
              "      <td>Bachelor's degree</td>\n",
              "      <td>White (non-Hispanic)</td>\n",
              "      <td>85.529412</td>\n",
              "    </tr>\n",
              "    <tr>\n",
              "      <th>AW36679818719YY</th>\n",
              "      <td>27</td>\n",
              "      <td>0</td>\n",
              "      <td>10000</td>\n",
              "      <td>Bachelor's degree</td>\n",
              "      <td>White (non-Hispanic)</td>\n",
              "      <td>71.117647</td>\n",
              "    </tr>\n",
              "    <tr>\n",
              "      <th>AW13380501976YY</th>\n",
              "      <td>28</td>\n",
              "      <td>1</td>\n",
              "      <td>70000</td>\n",
              "      <td>Master's degree</td>\n",
              "      <td>White (non-Hispanic)</td>\n",
              "      <td>80.764706</td>\n",
              "    </tr>\n",
              "  </tbody>\n",
              "</table>\n",
              "<p>1056 rows × 6 columns</p>\n",
              "</div>"
            ],
            "text/plain": [
              "                 age  male  ...                  race (rating, mean)\n",
              "worker                      ...                                     \n",
              "AW31492615119     23     0  ...  Asian (non-Hispanic)      63.647059\n",
              "AW45861491036     35     0  ...  Black (non-Hispanic)      53.764706\n",
              "AW62562980372     28     0  ...   Hispanic (any race)      58.294118\n",
              "AW9806860651      55     1  ...  White (non-Hispanic)      33.529412\n",
              "AW8132561106      38     0  ...  White (non-Hispanic)      77.705882\n",
              "...              ...   ...  ...                   ...            ...\n",
              "AW49464443148YY   22     0  ...  White (non-Hispanic)      73.705882\n",
              "AW11201728006YY   24     1  ...  White (non-Hispanic)      39.470588\n",
              "AW37808030322YY   27     0  ...  White (non-Hispanic)      85.529412\n",
              "AW36679818719YY   27     0  ...  White (non-Hispanic)      71.117647\n",
              "AW13380501976YY   28     1  ...  White (non-Hispanic)      80.764706\n",
              "\n",
              "[1056 rows x 6 columns]"
            ]
          },
          "metadata": {},
          "execution_count": 30
        }
      ]
    },
    {
      "cell_type": "code",
      "metadata": {
        "colab": {
          "base_uri": "https://localhost:8080/"
        },
        "id": "KLQxZ9fEUuyT",
        "outputId": "8c6cf47a-ed41-4e60-e3cd-23da12afba62"
      },
      "source": [
        "df_demographics.columns"
      ],
      "execution_count": 31,
      "outputs": [
        {
          "output_type": "execute_result",
          "data": {
            "text/plain": [
              "Index(['age', 'male', 'income', 'education', 'race', ('rating', 'mean')], dtype='object')"
            ]
          },
          "metadata": {},
          "execution_count": 31
        }
      ]
    },
    {
      "cell_type": "code",
      "metadata": {
        "id": "o-dCYb8bRRSk"
      },
      "source": [
        "\n",
        "df_demographics.rename(columns={('rating', 'mean'): 'subjective_riches'}, inplace=True)"
      ],
      "execution_count": 32,
      "outputs": []
    },
    {
      "cell_type": "code",
      "metadata": {
        "colab": {
          "base_uri": "https://localhost:8080/",
          "height": 0
        },
        "id": "d5sFx3R8VSz3",
        "outputId": "31dc6ae6-c7c1-4eb5-c2fc-c72c5de95948"
      },
      "source": [
        "df_demographics"
      ],
      "execution_count": 33,
      "outputs": [
        {
          "output_type": "execute_result",
          "data": {
            "text/html": [
              "<div>\n",
              "<style scoped>\n",
              "    .dataframe tbody tr th:only-of-type {\n",
              "        vertical-align: middle;\n",
              "    }\n",
              "\n",
              "    .dataframe tbody tr th {\n",
              "        vertical-align: top;\n",
              "    }\n",
              "\n",
              "    .dataframe thead th {\n",
              "        text-align: right;\n",
              "    }\n",
              "</style>\n",
              "<table border=\"1\" class=\"dataframe\">\n",
              "  <thead>\n",
              "    <tr style=\"text-align: right;\">\n",
              "      <th></th>\n",
              "      <th>age</th>\n",
              "      <th>male</th>\n",
              "      <th>income</th>\n",
              "      <th>education</th>\n",
              "      <th>race</th>\n",
              "      <th>subjective_riches</th>\n",
              "    </tr>\n",
              "    <tr>\n",
              "      <th>worker</th>\n",
              "      <th></th>\n",
              "      <th></th>\n",
              "      <th></th>\n",
              "      <th></th>\n",
              "      <th></th>\n",
              "      <th></th>\n",
              "    </tr>\n",
              "  </thead>\n",
              "  <tbody>\n",
              "    <tr>\n",
              "      <th>AW31492615119</th>\n",
              "      <td>23</td>\n",
              "      <td>0</td>\n",
              "      <td>30000</td>\n",
              "      <td>Some college</td>\n",
              "      <td>Asian (non-Hispanic)</td>\n",
              "      <td>63.647059</td>\n",
              "    </tr>\n",
              "    <tr>\n",
              "      <th>AW45861491036</th>\n",
              "      <td>35</td>\n",
              "      <td>0</td>\n",
              "      <td>50000</td>\n",
              "      <td>Some college</td>\n",
              "      <td>Black (non-Hispanic)</td>\n",
              "      <td>53.764706</td>\n",
              "    </tr>\n",
              "    <tr>\n",
              "      <th>AW62562980372</th>\n",
              "      <td>28</td>\n",
              "      <td>0</td>\n",
              "      <td>30000</td>\n",
              "      <td>Some college</td>\n",
              "      <td>Hispanic (any race)</td>\n",
              "      <td>58.294118</td>\n",
              "    </tr>\n",
              "    <tr>\n",
              "      <th>AW9806860651</th>\n",
              "      <td>55</td>\n",
              "      <td>1</td>\n",
              "      <td>70000</td>\n",
              "      <td>Bachelor's degree</td>\n",
              "      <td>White (non-Hispanic)</td>\n",
              "      <td>33.529412</td>\n",
              "    </tr>\n",
              "    <tr>\n",
              "      <th>AW8132561106</th>\n",
              "      <td>38</td>\n",
              "      <td>0</td>\n",
              "      <td>50000</td>\n",
              "      <td>Master's degree</td>\n",
              "      <td>White (non-Hispanic)</td>\n",
              "      <td>77.705882</td>\n",
              "    </tr>\n",
              "    <tr>\n",
              "      <th>...</th>\n",
              "      <td>...</td>\n",
              "      <td>...</td>\n",
              "      <td>...</td>\n",
              "      <td>...</td>\n",
              "      <td>...</td>\n",
              "      <td>...</td>\n",
              "    </tr>\n",
              "    <tr>\n",
              "      <th>AW49464443148YY</th>\n",
              "      <td>22</td>\n",
              "      <td>0</td>\n",
              "      <td>10000</td>\n",
              "      <td>Some college</td>\n",
              "      <td>White (non-Hispanic)</td>\n",
              "      <td>73.705882</td>\n",
              "    </tr>\n",
              "    <tr>\n",
              "      <th>AW11201728006YY</th>\n",
              "      <td>24</td>\n",
              "      <td>1</td>\n",
              "      <td>90000</td>\n",
              "      <td>Some college</td>\n",
              "      <td>White (non-Hispanic)</td>\n",
              "      <td>39.470588</td>\n",
              "    </tr>\n",
              "    <tr>\n",
              "      <th>AW37808030322YY</th>\n",
              "      <td>27</td>\n",
              "      <td>0</td>\n",
              "      <td>30000</td>\n",
              "      <td>Bachelor's degree</td>\n",
              "      <td>White (non-Hispanic)</td>\n",
              "      <td>85.529412</td>\n",
              "    </tr>\n",
              "    <tr>\n",
              "      <th>AW36679818719YY</th>\n",
              "      <td>27</td>\n",
              "      <td>0</td>\n",
              "      <td>10000</td>\n",
              "      <td>Bachelor's degree</td>\n",
              "      <td>White (non-Hispanic)</td>\n",
              "      <td>71.117647</td>\n",
              "    </tr>\n",
              "    <tr>\n",
              "      <th>AW13380501976YY</th>\n",
              "      <td>28</td>\n",
              "      <td>1</td>\n",
              "      <td>70000</td>\n",
              "      <td>Master's degree</td>\n",
              "      <td>White (non-Hispanic)</td>\n",
              "      <td>80.764706</td>\n",
              "    </tr>\n",
              "  </tbody>\n",
              "</table>\n",
              "<p>1056 rows × 6 columns</p>\n",
              "</div>"
            ],
            "text/plain": [
              "                 age  male  ...                  race subjective_riches\n",
              "worker                      ...                                        \n",
              "AW31492615119     23     0  ...  Asian (non-Hispanic)         63.647059\n",
              "AW45861491036     35     0  ...  Black (non-Hispanic)         53.764706\n",
              "AW62562980372     28     0  ...   Hispanic (any race)         58.294118\n",
              "AW9806860651      55     1  ...  White (non-Hispanic)         33.529412\n",
              "AW8132561106      38     0  ...  White (non-Hispanic)         77.705882\n",
              "...              ...   ...  ...                   ...               ...\n",
              "AW49464443148YY   22     0  ...  White (non-Hispanic)         73.705882\n",
              "AW11201728006YY   24     1  ...  White (non-Hispanic)         39.470588\n",
              "AW37808030322YY   27     0  ...  White (non-Hispanic)         85.529412\n",
              "AW36679818719YY   27     0  ...  White (non-Hispanic)         71.117647\n",
              "AW13380501976YY   28     1  ...  White (non-Hispanic)         80.764706\n",
              "\n",
              "[1056 rows x 6 columns]"
            ]
          },
          "metadata": {},
          "execution_count": 33
        }
      ]
    },
    {
      "cell_type": "markdown",
      "metadata": {
        "id": "Xj124gg1VePu"
      },
      "source": [
        "# D"
      ]
    },
    {
      "cell_type": "code",
      "metadata": {
        "colab": {
          "base_uri": "https://localhost:8080/"
        },
        "id": "Oudh4V2IiQSi",
        "outputId": "a3bd8d75-b20f-4dbd-ef2c-dc3703412e58"
      },
      "source": [
        "!pip3 install statsmodels"
      ],
      "execution_count": 34,
      "outputs": [
        {
          "output_type": "stream",
          "name": "stdout",
          "text": [
            "Requirement already satisfied: statsmodels in /usr/local/lib/python3.7/dist-packages (0.10.2)\n",
            "Requirement already satisfied: patsy>=0.4.0 in /usr/local/lib/python3.7/dist-packages (from statsmodels) (0.5.1)\n",
            "Requirement already satisfied: scipy>=0.18 in /usr/local/lib/python3.7/dist-packages (from statsmodels) (1.4.1)\n",
            "Requirement already satisfied: numpy>=1.11 in /usr/local/lib/python3.7/dist-packages (from statsmodels) (1.19.5)\n",
            "Requirement already satisfied: pandas>=0.19 in /usr/local/lib/python3.7/dist-packages (from statsmodels) (1.1.5)\n",
            "Requirement already satisfied: python-dateutil>=2.7.3 in /usr/local/lib/python3.7/dist-packages (from pandas>=0.19->statsmodels) (2.8.2)\n",
            "Requirement already satisfied: pytz>=2017.2 in /usr/local/lib/python3.7/dist-packages (from pandas>=0.19->statsmodels) (2018.9)\n",
            "Requirement already satisfied: six in /usr/local/lib/python3.7/dist-packages (from patsy>=0.4.0->statsmodels) (1.15.0)\n"
          ]
        }
      ]
    },
    {
      "cell_type": "code",
      "metadata": {
        "colab": {
          "base_uri": "https://localhost:8080/"
        },
        "id": "XM-Ezh5mVdPV",
        "outputId": "ab898513-a8cf-4e41-afb2-340849f053d9"
      },
      "source": [
        "# Import the `api` model of `statsmodels` under alias `sm`\n",
        "\n",
        "import statsmodels.api as sm\n",
        "\n",
        "# Import the `datetools` module from `pandas`\n",
        "\n",
        "# Add a constant \n",
        "X = sm.add_constant(df_demographics['income'])\n",
        "\n",
        "# Construct the model\n",
        "model = sm.OLS(df_demographics['subjective_riches'],X).fit()\n",
        "\n",
        "# Print the summary\n",
        "print(model.summary())"
      ],
      "execution_count": 35,
      "outputs": [
        {
          "output_type": "stream",
          "name": "stderr",
          "text": [
            "/usr/local/lib/python3.7/dist-packages/statsmodels/tools/_testing.py:19: FutureWarning: pandas.util.testing is deprecated. Use the functions in the public API at pandas.testing instead.\n",
            "  import pandas.util.testing as tm\n"
          ]
        },
        {
          "output_type": "stream",
          "name": "stdout",
          "text": [
            "                            OLS Regression Results                            \n",
            "==============================================================================\n",
            "Dep. Variable:      subjective_riches   R-squared:                       0.038\n",
            "Model:                            OLS   Adj. R-squared:                  0.037\n",
            "Method:                 Least Squares   F-statistic:                     41.57\n",
            "Date:                Wed, 29 Sep 2021   Prob (F-statistic):           1.73e-10\n",
            "Time:                        14:44:40   Log-Likelihood:                -4587.5\n",
            "No. Observations:                1056   AIC:                             9179.\n",
            "Df Residuals:                    1054   BIC:                             9189.\n",
            "Df Model:                           1                                         \n",
            "Covariance Type:            nonrobust                                         \n",
            "==============================================================================\n",
            "                 coef    std err          t      P>|t|      [0.025      0.975]\n",
            "------------------------------------------------------------------------------\n",
            "const         56.2790      1.011     55.691      0.000      54.296      58.262\n",
            "income      9.269e-05   1.44e-05      6.448      0.000    6.45e-05       0.000\n",
            "==============================================================================\n",
            "Omnibus:                        8.356   Durbin-Watson:                   2.019\n",
            "Prob(Omnibus):                  0.015   Jarque-Bera (JB):                6.856\n",
            "Skew:                          -0.115   Prob(JB):                       0.0324\n",
            "Kurtosis:                       2.679   Cond. No.                     1.24e+05\n",
            "==============================================================================\n",
            "\n",
            "Warnings:\n",
            "[1] Standard Errors assume that the covariance matrix of the errors is correctly specified.\n",
            "[2] The condition number is large, 1.24e+05. This might indicate that there are\n",
            "strong multicollinearity or other numerical problems.\n"
          ]
        }
      ]
    },
    {
      "cell_type": "markdown",
      "metadata": {
        "id": "5jLkGEAcpLhM"
      },
      "source": [
        "### With a general form of : \n",
        "subjective_riches = 0.00009269(income) + 56.279\n",
        "A low std error compared to a high coefficient produces a high t statistic, which signifies a high significance for our coefficient (56.279) .\n",
        "The  p value of income is saying there is a 0% chance  the Income  variable has no effect on the dependent variable, subjective_riches.\n",
        "\n",
        "[0.025 and 0.975] are both measurements of values of our coefficients within 95% of our data, or within two standard deviations. Outside of these values can generally be considered outliers."
      ]
    },
    {
      "cell_type": "markdown",
      "metadata": {
        "id": "PKjvJgL8pVNs"
      },
      "source": [
        "E"
      ]
    },
    {
      "cell_type": "markdown",
      "metadata": {
        "id": "eiusaB2Tskuy"
      },
      "source": [
        "# 3"
      ]
    },
    {
      "cell_type": "code",
      "metadata": {
        "colab": {
          "base_uri": "https://localhost:8080/",
          "height": 204
        },
        "id": "90MU4devdBqG",
        "outputId": "2ac81b80-ae6b-4957-ae76-f1f5f69881b8"
      },
      "source": [
        "\n",
        "cleaned_df.head()\n"
      ],
      "execution_count": 36,
      "outputs": [
        {
          "output_type": "execute_result",
          "data": {
            "text/html": [
              "<div>\n",
              "<style scoped>\n",
              "    .dataframe tbody tr th:only-of-type {\n",
              "        vertical-align: middle;\n",
              "    }\n",
              "\n",
              "    .dataframe tbody tr th {\n",
              "        vertical-align: top;\n",
              "    }\n",
              "\n",
              "    .dataframe thead th {\n",
              "        text-align: right;\n",
              "    }\n",
              "</style>\n",
              "<table border=\"1\" class=\"dataframe\">\n",
              "  <thead>\n",
              "    <tr style=\"text-align: right;\">\n",
              "      <th></th>\n",
              "      <th>aspect</th>\n",
              "      <th>worker</th>\n",
              "      <th>time</th>\n",
              "      <th>rating</th>\n",
              "    </tr>\n",
              "  </thead>\n",
              "  <tbody>\n",
              "    <tr>\n",
              "      <th>0</th>\n",
              "      <td>how happy you feel</td>\n",
              "      <td>AW31492615119</td>\n",
              "      <td>1502372036608</td>\n",
              "      <td>69</td>\n",
              "    </tr>\n",
              "    <tr>\n",
              "      <th>1</th>\n",
              "      <td>how much you like your home house or apartment</td>\n",
              "      <td>AW31492615119</td>\n",
              "      <td>1502372036695</td>\n",
              "      <td>67</td>\n",
              "    </tr>\n",
              "    <tr>\n",
              "      <th>2</th>\n",
              "      <td>how satisfied you are with your life</td>\n",
              "      <td>AW31492615119</td>\n",
              "      <td>1502372036780</td>\n",
              "      <td>67</td>\n",
              "    </tr>\n",
              "    <tr>\n",
              "      <th>3</th>\n",
              "      <td>the extent to which you feel the things you do...</td>\n",
              "      <td>AW31492615119</td>\n",
              "      <td>1502372036849</td>\n",
              "      <td>63</td>\n",
              "    </tr>\n",
              "    <tr>\n",
              "      <th>4</th>\n",
              "      <td>the quality of your sleep</td>\n",
              "      <td>AW31492615119</td>\n",
              "      <td>1502372036929</td>\n",
              "      <td>59</td>\n",
              "    </tr>\n",
              "  </tbody>\n",
              "</table>\n",
              "</div>"
            ],
            "text/plain": [
              "                                              aspect  ... rating\n",
              "0                                 how happy you feel  ...     69\n",
              "1     how much you like your home house or apartment  ...     67\n",
              "2               how satisfied you are with your life  ...     67\n",
              "3  the extent to which you feel the things you do...  ...     63\n",
              "4                          the quality of your sleep  ...     59\n",
              "\n",
              "[5 rows x 4 columns]"
            ]
          },
          "metadata": {},
          "execution_count": 36
        }
      ]
    },
    {
      "cell_type": "code",
      "metadata": {
        "colab": {
          "base_uri": "https://localhost:8080/",
          "height": 235
        },
        "id": "vJDbX2ALrEBQ",
        "outputId": "34def97f-9869-4e6d-970e-0dbb766d8012"
      },
      "source": [
        "df_health=cleaned_df[cleaned_df[\"aspect\"]==\"your health\"]\n",
        "df_health.set_index(\"worker\" , inplace=True)\n",
        "df_health.head()"
      ],
      "execution_count": 37,
      "outputs": [
        {
          "output_type": "execute_result",
          "data": {
            "text/html": [
              "<div>\n",
              "<style scoped>\n",
              "    .dataframe tbody tr th:only-of-type {\n",
              "        vertical-align: middle;\n",
              "    }\n",
              "\n",
              "    .dataframe tbody tr th {\n",
              "        vertical-align: top;\n",
              "    }\n",
              "\n",
              "    .dataframe thead th {\n",
              "        text-align: right;\n",
              "    }\n",
              "</style>\n",
              "<table border=\"1\" class=\"dataframe\">\n",
              "  <thead>\n",
              "    <tr style=\"text-align: right;\">\n",
              "      <th></th>\n",
              "      <th>aspect</th>\n",
              "      <th>time</th>\n",
              "      <th>rating</th>\n",
              "    </tr>\n",
              "    <tr>\n",
              "      <th>worker</th>\n",
              "      <th></th>\n",
              "      <th></th>\n",
              "      <th></th>\n",
              "    </tr>\n",
              "  </thead>\n",
              "  <tbody>\n",
              "    <tr>\n",
              "      <th>AW31492615119</th>\n",
              "      <td>your health</td>\n",
              "      <td>1502372037637</td>\n",
              "      <td>67</td>\n",
              "    </tr>\n",
              "    <tr>\n",
              "      <th>AW45861491036</th>\n",
              "      <td>your health</td>\n",
              "      <td>1483197907952</td>\n",
              "      <td>61</td>\n",
              "    </tr>\n",
              "    <tr>\n",
              "      <th>AW62562980372</th>\n",
              "      <td>your health</td>\n",
              "      <td>1499791229928</td>\n",
              "      <td>66</td>\n",
              "    </tr>\n",
              "    <tr>\n",
              "      <th>AW9806860651</th>\n",
              "      <td>your health</td>\n",
              "      <td>1500067529629</td>\n",
              "      <td>39</td>\n",
              "    </tr>\n",
              "    <tr>\n",
              "      <th>AW8132561106</th>\n",
              "      <td>your health</td>\n",
              "      <td>1482545562518</td>\n",
              "      <td>79</td>\n",
              "    </tr>\n",
              "  </tbody>\n",
              "</table>\n",
              "</div>"
            ],
            "text/plain": [
              "                    aspect           time  rating\n",
              "worker                                           \n",
              "AW31492615119  your health  1502372037637      67\n",
              "AW45861491036  your health  1483197907952      61\n",
              "AW62562980372  your health  1499791229928      66\n",
              "AW9806860651   your health  1500067529629      39\n",
              "AW8132561106   your health  1482545562518      79"
            ]
          },
          "metadata": {},
          "execution_count": 37
        }
      ]
    },
    {
      "cell_type": "code",
      "metadata": {
        "colab": {
          "base_uri": "https://localhost:8080/",
          "height": 235
        },
        "id": "LzsV2b0tsTAR",
        "outputId": "648f1bca-06f7-4baf-a67b-098227a3143c"
      },
      "source": [
        "df_demographics = pd.concat([df_demographics,df_health], axis=1, join=\"inner\")\n",
        "df_demographics.head()"
      ],
      "execution_count": 38,
      "outputs": [
        {
          "output_type": "execute_result",
          "data": {
            "text/html": [
              "<div>\n",
              "<style scoped>\n",
              "    .dataframe tbody tr th:only-of-type {\n",
              "        vertical-align: middle;\n",
              "    }\n",
              "\n",
              "    .dataframe tbody tr th {\n",
              "        vertical-align: top;\n",
              "    }\n",
              "\n",
              "    .dataframe thead th {\n",
              "        text-align: right;\n",
              "    }\n",
              "</style>\n",
              "<table border=\"1\" class=\"dataframe\">\n",
              "  <thead>\n",
              "    <tr style=\"text-align: right;\">\n",
              "      <th></th>\n",
              "      <th>age</th>\n",
              "      <th>male</th>\n",
              "      <th>income</th>\n",
              "      <th>education</th>\n",
              "      <th>race</th>\n",
              "      <th>subjective_riches</th>\n",
              "      <th>aspect</th>\n",
              "      <th>time</th>\n",
              "      <th>rating</th>\n",
              "    </tr>\n",
              "    <tr>\n",
              "      <th>worker</th>\n",
              "      <th></th>\n",
              "      <th></th>\n",
              "      <th></th>\n",
              "      <th></th>\n",
              "      <th></th>\n",
              "      <th></th>\n",
              "      <th></th>\n",
              "      <th></th>\n",
              "      <th></th>\n",
              "    </tr>\n",
              "  </thead>\n",
              "  <tbody>\n",
              "    <tr>\n",
              "      <th>AW31492615119</th>\n",
              "      <td>23</td>\n",
              "      <td>0</td>\n",
              "      <td>30000</td>\n",
              "      <td>Some college</td>\n",
              "      <td>Asian (non-Hispanic)</td>\n",
              "      <td>63.647059</td>\n",
              "      <td>your health</td>\n",
              "      <td>1502372037637</td>\n",
              "      <td>67</td>\n",
              "    </tr>\n",
              "    <tr>\n",
              "      <th>AW45861491036</th>\n",
              "      <td>35</td>\n",
              "      <td>0</td>\n",
              "      <td>50000</td>\n",
              "      <td>Some college</td>\n",
              "      <td>Black (non-Hispanic)</td>\n",
              "      <td>53.764706</td>\n",
              "      <td>your health</td>\n",
              "      <td>1483197907952</td>\n",
              "      <td>61</td>\n",
              "    </tr>\n",
              "    <tr>\n",
              "      <th>AW62562980372</th>\n",
              "      <td>28</td>\n",
              "      <td>0</td>\n",
              "      <td>30000</td>\n",
              "      <td>Some college</td>\n",
              "      <td>Hispanic (any race)</td>\n",
              "      <td>58.294118</td>\n",
              "      <td>your health</td>\n",
              "      <td>1499791229928</td>\n",
              "      <td>66</td>\n",
              "    </tr>\n",
              "    <tr>\n",
              "      <th>AW9806860651</th>\n",
              "      <td>55</td>\n",
              "      <td>1</td>\n",
              "      <td>70000</td>\n",
              "      <td>Bachelor's degree</td>\n",
              "      <td>White (non-Hispanic)</td>\n",
              "      <td>33.529412</td>\n",
              "      <td>your health</td>\n",
              "      <td>1500067529629</td>\n",
              "      <td>39</td>\n",
              "    </tr>\n",
              "    <tr>\n",
              "      <th>AW8132561106</th>\n",
              "      <td>38</td>\n",
              "      <td>0</td>\n",
              "      <td>50000</td>\n",
              "      <td>Master's degree</td>\n",
              "      <td>White (non-Hispanic)</td>\n",
              "      <td>77.705882</td>\n",
              "      <td>your health</td>\n",
              "      <td>1482545562518</td>\n",
              "      <td>79</td>\n",
              "    </tr>\n",
              "  </tbody>\n",
              "</table>\n",
              "</div>"
            ],
            "text/plain": [
              "               age  male  income  ...       aspect           time  rating\n",
              "worker                            ...                                    \n",
              "AW31492615119   23     0   30000  ...  your health  1502372037637      67\n",
              "AW45861491036   35     0   50000  ...  your health  1483197907952      61\n",
              "AW62562980372   28     0   30000  ...  your health  1499791229928      66\n",
              "AW9806860651    55     1   70000  ...  your health  1500067529629      39\n",
              "AW8132561106    38     0   50000  ...  your health  1482545562518      79\n",
              "\n",
              "[5 rows x 9 columns]"
            ]
          },
          "metadata": {},
          "execution_count": 38
        }
      ]
    },
    {
      "cell_type": "code",
      "metadata": {
        "colab": {
          "base_uri": "https://localhost:8080/",
          "height": 235
        },
        "id": "nn5Gbe1Hsdfu",
        "outputId": "95e0956a-22f1-4952-906e-72c7a8ff043d"
      },
      "source": [
        "\n",
        "df_demographics.rename(columns={'rating': 'health'}, inplace=True)\n",
        "df_demographics.head()"
      ],
      "execution_count": 39,
      "outputs": [
        {
          "output_type": "execute_result",
          "data": {
            "text/html": [
              "<div>\n",
              "<style scoped>\n",
              "    .dataframe tbody tr th:only-of-type {\n",
              "        vertical-align: middle;\n",
              "    }\n",
              "\n",
              "    .dataframe tbody tr th {\n",
              "        vertical-align: top;\n",
              "    }\n",
              "\n",
              "    .dataframe thead th {\n",
              "        text-align: right;\n",
              "    }\n",
              "</style>\n",
              "<table border=\"1\" class=\"dataframe\">\n",
              "  <thead>\n",
              "    <tr style=\"text-align: right;\">\n",
              "      <th></th>\n",
              "      <th>age</th>\n",
              "      <th>male</th>\n",
              "      <th>income</th>\n",
              "      <th>education</th>\n",
              "      <th>race</th>\n",
              "      <th>subjective_riches</th>\n",
              "      <th>aspect</th>\n",
              "      <th>time</th>\n",
              "      <th>health</th>\n",
              "    </tr>\n",
              "    <tr>\n",
              "      <th>worker</th>\n",
              "      <th></th>\n",
              "      <th></th>\n",
              "      <th></th>\n",
              "      <th></th>\n",
              "      <th></th>\n",
              "      <th></th>\n",
              "      <th></th>\n",
              "      <th></th>\n",
              "      <th></th>\n",
              "    </tr>\n",
              "  </thead>\n",
              "  <tbody>\n",
              "    <tr>\n",
              "      <th>AW31492615119</th>\n",
              "      <td>23</td>\n",
              "      <td>0</td>\n",
              "      <td>30000</td>\n",
              "      <td>Some college</td>\n",
              "      <td>Asian (non-Hispanic)</td>\n",
              "      <td>63.647059</td>\n",
              "      <td>your health</td>\n",
              "      <td>1502372037637</td>\n",
              "      <td>67</td>\n",
              "    </tr>\n",
              "    <tr>\n",
              "      <th>AW45861491036</th>\n",
              "      <td>35</td>\n",
              "      <td>0</td>\n",
              "      <td>50000</td>\n",
              "      <td>Some college</td>\n",
              "      <td>Black (non-Hispanic)</td>\n",
              "      <td>53.764706</td>\n",
              "      <td>your health</td>\n",
              "      <td>1483197907952</td>\n",
              "      <td>61</td>\n",
              "    </tr>\n",
              "    <tr>\n",
              "      <th>AW62562980372</th>\n",
              "      <td>28</td>\n",
              "      <td>0</td>\n",
              "      <td>30000</td>\n",
              "      <td>Some college</td>\n",
              "      <td>Hispanic (any race)</td>\n",
              "      <td>58.294118</td>\n",
              "      <td>your health</td>\n",
              "      <td>1499791229928</td>\n",
              "      <td>66</td>\n",
              "    </tr>\n",
              "    <tr>\n",
              "      <th>AW9806860651</th>\n",
              "      <td>55</td>\n",
              "      <td>1</td>\n",
              "      <td>70000</td>\n",
              "      <td>Bachelor's degree</td>\n",
              "      <td>White (non-Hispanic)</td>\n",
              "      <td>33.529412</td>\n",
              "      <td>your health</td>\n",
              "      <td>1500067529629</td>\n",
              "      <td>39</td>\n",
              "    </tr>\n",
              "    <tr>\n",
              "      <th>AW8132561106</th>\n",
              "      <td>38</td>\n",
              "      <td>0</td>\n",
              "      <td>50000</td>\n",
              "      <td>Master's degree</td>\n",
              "      <td>White (non-Hispanic)</td>\n",
              "      <td>77.705882</td>\n",
              "      <td>your health</td>\n",
              "      <td>1482545562518</td>\n",
              "      <td>79</td>\n",
              "    </tr>\n",
              "  </tbody>\n",
              "</table>\n",
              "</div>"
            ],
            "text/plain": [
              "               age  male  income  ...       aspect           time  health\n",
              "worker                            ...                                    \n",
              "AW31492615119   23     0   30000  ...  your health  1502372037637      67\n",
              "AW45861491036   35     0   50000  ...  your health  1483197907952      61\n",
              "AW62562980372   28     0   30000  ...  your health  1499791229928      66\n",
              "AW9806860651    55     1   70000  ...  your health  1500067529629      39\n",
              "AW8132561106    38     0   50000  ...  your health  1482545562518      79\n",
              "\n",
              "[5 rows x 9 columns]"
            ]
          },
          "metadata": {},
          "execution_count": 39
        }
      ]
    },
    {
      "cell_type": "code",
      "metadata": {
        "id": "Xpruo_pvszq2"
      },
      "source": [
        "import pandas as pd\n",
        "import matplotlib.pyplot as plt\n",
        "import seaborn as sns"
      ],
      "execution_count": 40,
      "outputs": []
    },
    {
      "cell_type": "code",
      "metadata": {
        "colab": {
          "base_uri": "https://localhost:8080/",
          "height": 265
        },
        "id": "WLmilkVHuaQp",
        "outputId": "b1099037-db40-46a6-80ad-5f4c6c36afa8"
      },
      "source": [
        "plt.plot(df_demographics['age'])\n",
        "plt.show()"
      ],
      "execution_count": 42,
      "outputs": [
        {
          "output_type": "display_data",
          "data": {
            "image/png": "[encoded data removed]",
            "text/plain": [
              "<Figure size 432x288 with 1 Axes>"
            ]
          },
          "metadata": {
            "needs_background": "light"
          }
        }
      ]
    },
    {
      "cell_type": "code",
      "metadata": {
        "colab": {
          "base_uri": "https://localhost:8080/",
          "height": 265
        },
        "id": "RciyAXYPuoJ8",
        "outputId": "459b5b14-5fdb-4c44-81b7-bc8685d29797"
      },
      "source": [
        "plt.plot(df_demographics['income'])\n",
        "plt.show()"
      ],
      "execution_count": 84,
      "outputs": [
        {
          "output_type": "display_data",
          "data": {
            "image/png": "[encoded data removed]",
            "text/plain": [
              "<Figure size 432x288 with 1 Axes>"
            ]
          },
          "metadata": {
            "needs_background": "light"
          }
        }
      ]
    },
    {
      "cell_type": "code",
      "metadata": {
        "colab": {
          "base_uri": "https://localhost:8080/",
          "height": 265
        },
        "id": "udJrW-xjH24L",
        "outputId": "bbe69908-ba1d-454c-ee96-82533e415006"
      },
      "source": [
        "plt.plot(df_demographics['health'])\n",
        "plt.show()\n"
      ],
      "execution_count": 85,
      "outputs": [
        {
          "output_type": "display_data",
          "data": {
            "image/png": "[encoded data removed]",
            "text/plain": [
              "<Figure size 432x288 with 1 Axes>"
            ]
          },
          "metadata": {
            "needs_background": "light"
          }
        }
      ]
    },
    {
      "cell_type": "code",
      "metadata": {
        "colab": {
          "base_uri": "https://localhost:8080/",
          "height": 288
        },
        "id": "FJIuxKhXFmcI",
        "outputId": "74671269-11a1-435d-92eb-3618a3250f31"
      },
      "source": [
        "# create figure and axis objects with subplots()\n",
        "fig,ax = plt.subplots()\n",
        "# make a plot\n",
        "\n",
        "\n",
        "ax.plot(df_demographics[\"income\"], df_demographics[\"age\"],\"o\", color=\"red\", alpha=.2 )\n",
        "# set x-axis label\n",
        "ax.set_xlabel(\"Income\",fontsize=20)\n",
        "# set y-axis label\n",
        "ax.set_ylabel(\"Age\",color=\"red\",fontsize=14)\n",
        "#Next we use twinx() function to create the second axis object “ax2”. Now we use the second axis object “ax2” to make plot of the second y-axis variable and update their labels.\n",
        "\n",
        "# twin object for two different y-axis on the sample plot\n",
        "ax2=ax.twinx()\n",
        "\n",
        "# make a plot with different y-axis using second axis object\n",
        "\n",
        "ax2.plot(df_demographics[\"income\"], df_demographics[\"health\"],\"o\", color=\"green\", alpha=.2)\n",
        "ax2.set_ylabel(\"Health\",color=\"green\",fontsize=14)\n",
        "plt.show()\n",
        "\n"
      ],
      "execution_count": 82,
      "outputs": [
        {
          "output_type": "display_data",
          "data": {
            "image/png": "[encoded data removed]",
            "text/plain": [
              "<Figure size 432x288 with 2 Axes>"
            ]
          },
          "metadata": {
            "needs_background": "light"
          }
        }
      ]
    }
  ]
}